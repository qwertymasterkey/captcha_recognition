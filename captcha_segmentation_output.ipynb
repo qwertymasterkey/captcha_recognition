{
  "cells": [
    {
      "cell_type": "markdown",
      "metadata": {
        "id": "view-in-github",
        "colab_type": "text"
      },
      "source": [
        "<a href=\"https://colab.research.google.com/github/qwertymasterkey/captcha_recognition/blob/main/captcha_segmentation_output.ipynb\" target=\"_parent\"><img src=\"https://colab.research.google.com/assets/colab-badge.svg\" alt=\"Open In Colab\"/></a>"
      ]
    },
    {
      "cell_type": "code",
      "execution_count": null,
      "metadata": {
        "id": "-5yuUfSz7RAZ"
      },
      "outputs": [],
      "source": [
        "import os"
      ]
    },
    {
      "cell_type": "code",
      "execution_count": null,
      "metadata": {
        "id": "QwiRU7I382K4"
      },
      "outputs": [],
      "source": [
        "!unzip /content/drive/MyDrive/captcha_segment/dataset_archive.zip -d /content/drive/MyDrive/captcha_segment/tenletter_dataset/"
      ]
    },
    {
      "cell_type": "code",
      "execution_count": null,
      "metadata": {
        "id": "qfX-RT8P9THw"
      },
      "outputs": [],
      "source": [
        "from pathlib import Path\n",
        "data_dir = Path(\"/content/drive/MyDrive/captcha_segment/tenletter_dataset\")"
      ]
    },
    {
      "cell_type": "code",
      "execution_count": null,
      "metadata": {
        "id": "TLpY7Kuo97ge"
      },
      "outputs": [],
      "source": [
        "images = sorted(list(map(str, list(data_dir.glob(\"*.jpg\")))))"
      ]
    },
    {
      "cell_type": "code",
      "execution_count": null,
      "metadata": {
        "colab": {
          "base_uri": "https://localhost:8080/"
        },
        "id": "r1x_n78_-Dwl",
        "outputId": "383c4cf1-41c5-467c-c1de-b553f1aeadda"
      },
      "outputs": [
        {
          "output_type": "stream",
          "name": "stdout",
          "text": [
            "Number of images found:  10000\n",
            "Number of labels found:  10000\n",
            "Number of unique characters:  62\n",
            "Characters present:  {'7', '4', 'Q', 'y', 'P', 'p', 'E', 'u', 't', 'Z', '8', 'w', 'a', 'i', '0', 'c', 'b', '6', 'G', 'x', 'e', 'k', 'z', 'm', 'S', 'C', 'H', 's', 'Y', 'F', 'o', 'K', 'h', 'l', 'J', '2', 'W', 'X', 'D', 'V', 'L', 'd', 'N', 'A', 'n', 'j', 'M', 'B', '9', '5', 'r', 'U', 'v', 'f', 'I', 'q', '1', '3', 'g', 'O', 'T', 'R'}\n"
          ]
        }
      ],
      "source": [
        "labels = [img.split(os.path.sep)[-1].split(\".jpg\")[0] for img in images]\n",
        "characters = set(char for label in labels for char in label)\n",
        "print(\"Number of images found: \", len(images))\n",
        "print(\"Number of labels found: \", len(labels))\n",
        "print(\"Number of unique characters: \", len(characters))\n",
        "print(\"Characters present: \", characters)\n",
        "\n",
        "# Batch size for training and validation\n",
        "batch_size = 16\n",
        "\n",
        "# Desired image dimensions\n",
        "img_width = 282\n",
        "img_height = 90"
      ]
    },
    {
      "cell_type": "code",
      "execution_count": null,
      "metadata": {
        "colab": {
          "base_uri": "https://localhost:8080/"
        },
        "id": "e2ALAIFA-bKW",
        "outputId": "27952b98-9e0f-40b8-92b4-df4e687a5711"
      },
      "outputs": [
        {
          "output_type": "stream",
          "name": "stdout",
          "text": [
            "00TDWu131v\n"
          ]
        }
      ],
      "source": [
        "print(labels[5])"
      ]
    },
    {
      "cell_type": "code",
      "execution_count": null,
      "metadata": {
        "colab": {
          "base_uri": "https://localhost:8080/",
          "height": 107
        },
        "id": "eMjbMbHbCKmW",
        "outputId": "efef4d53-76ac-4dc8-c20f-993dc90b8b48"
      },
      "outputs": [
        {
          "output_type": "display_data",
          "data": {
            "text/plain": [
              "<PIL.Image.Image image mode=RGB size=282x90 at 0x7FBA298ED890>"
            ],
            "image/png": "[encoded data removed]"
          },
          "metadata": {}
        }
      ],
      "source": [
        "import cv2\n",
        "from google.colab.patches import cv2_imshow\n",
        "images[5]\n",
        "image1=cv2.imread(images[5])\n",
        "cv2_imshow(image1)"
      ]
    },
    {
      "cell_type": "code",
      "execution_count": null,
      "metadata": {
        "colab": {
          "base_uri": "https://localhost:8080/",
          "height": 107
        },
        "id": "OjifXKdYCNyO",
        "outputId": "0e31661e-0033-4d58-cc7b-795bba0ff654"
      },
      "outputs": [
        {
          "output_type": "display_data",
          "data": {
            "text/plain": [
              "<PIL.Image.Image image mode=L size=282x90 at 0x7FBA1859F9D0>"
            ],
            "image/png": "[encoded data removed]"
          },
          "metadata": {}
        }
      ],
      "source": [
        "def convert_binary(image):\n",
        "  image1 = cv2.imread(image)\n",
        "  img = cv2.cvtColor(image1, cv2.COLOR_BGR2RGB)\n",
        "  img=cv2.cvtColor(img,cv2.COLOR_RGB2GRAY)\n",
        "  ret, thresh1 = cv2.threshold(img, 225, 255, cv2.THRESH_BINARY_INV)\n",
        "  return thresh1\n",
        "thresh1=convert_binary(images[5])\n",
        "cv2_imshow(thresh1)\n"
      ]
    },
    {
      "cell_type": "code",
      "execution_count": null,
      "metadata": {
        "id": "yP6xOWBVCxqo"
      },
      "outputs": [],
      "source": [
        "def find_contours(thresh1):\n",
        "  contours, hierarchy = cv2.findContours(thresh1, cv2.RETR_TREE, cv2.CHAIN_APPROX_SIMPLE)\n",
        "  return contours\n",
        "contours=find_contours(thresh1)\n",
        "image = cv2.drawContours(image1, contours, -1, (0, 255, 0), 2)"
      ]
    },
    {
      "cell_type": "code",
      "execution_count": null,
      "metadata": {
        "id": "EEMbgpfsbXMI"
      },
      "outputs": [],
      "source": [
        "print(contours)"
      ]
    },
    {
      "cell_type": "code",
      "execution_count": null,
      "metadata": {
        "colab": {
          "base_uri": "https://localhost:8080/",
          "height": 107
        },
        "id": "k4M9pZBv8s9d",
        "outputId": "857f5d8a-bf71-4a43-bae6-d472071f476e"
      },
      "outputs": [
        {
          "output_type": "display_data",
          "data": {
            "text/plain": [
              "<PIL.Image.Image image mode=RGB size=282x90 at 0x7FBA185B4110>"
            ],
            "image/png": "[encoded data removed]"
          },
          "metadata": {}
        }
      ],
      "source": [
        "cv2_imshow(image)"
      ]
    },
    {
      "cell_type": "code",
      "execution_count": null,
      "metadata": {
        "id": "-2KIwX4s86BA"
      },
      "outputs": [],
      "source": [
        "def find_contour_size(contours):\n",
        "  x={}\n",
        "  for m in range(len(contours)):\n",
        "      \n",
        "      mini = 1000\n",
        "      for k in range(len(contours[m])):\n",
        "          first = contours[m][k][0][1]\n",
        "          if first < mini:\n",
        "              mini = first\n",
        "      mini2 = mini\n",
        "      #print(mini2)\n",
        "      \n",
        "      maxi = 0\n",
        "      for k in range(len(contours[m])):\n",
        "          first = contours[m][k][0][1]\n",
        "          if first > maxi:\n",
        "              maxi = first\n",
        "      maxi2 = maxi\n",
        "      #print(maxi2)\n",
        "      x[m] = maxi2 - mini2\n",
        "  return x \n",
        "x=find_contour_size(contours)"
      ]
    },
    {
      "cell_type": "code",
      "execution_count": null,
      "metadata": {
        "id": "4aFHBwS4il-D"
      },
      "outputs": [],
      "source": [
        "biggie = sorted(x, key=x.get)"
      ]
    },
    {
      "cell_type": "code",
      "execution_count": null,
      "metadata": {
        "colab": {
          "base_uri": "https://localhost:8080/"
        },
        "id": "Utch5AZ5-c6e",
        "outputId": "f24304e1-96e0-4ca0-ef78-9d50074406bf"
      },
      "outputs": [
        {
          "output_type": "stream",
          "name": "stdout",
          "text": [
            "[1, 14, 15, 17, 18, 0, 16, 7, 11, 13, 2, 3, 4, 8, 9, 10, 12, 6, 5]\n"
          ]
        }
      ],
      "source": [
        "print(biggie)"
      ]
    },
    {
      "cell_type": "code",
      "execution_count": null,
      "metadata": {
        "id": "UsRSfT81ATB9"
      },
      "outputs": [],
      "source": [
        "def plotting(num,s,biggie,contours):\n",
        "    m = biggie[num]\n",
        "    mini = 1000\n",
        "    for k in range(len(contours[m])):\n",
        "        first = contours[m][k][0][0]\n",
        "        if first < mini:\n",
        "            mini = first\n",
        "    mini1 = mini\n",
        "    #print(mini1)\n",
        "\n",
        "    mini = 1000\n",
        "    for k in range(len(contours[m])):\n",
        "        first = contours[m][k][0][1]\n",
        "        if first < mini:\n",
        "            mini = first\n",
        "    mini2 = mini\n",
        "   # print(mini2)\n",
        "\n",
        "    maxi = 0\n",
        "    for k in range(len(contours[m])):\n",
        "        first = contours[m][k][0][1]\n",
        "        if first > maxi:\n",
        "            maxi = first\n",
        "    maxi2 = maxi\n",
        "    #print(maxi2)\n",
        "\n",
        "    maxi = 0\n",
        "    for k in range(len(contours[m])):\n",
        "        first = contours[m][k][0][0]\n",
        "        if first > maxi:\n",
        "            maxi = first\n",
        "    maxi1 = maxi\n",
        "    #print(maxi1)\n",
        "    ret = [mini2, maxi2, mini1, maxi1]\n",
        "    s[num] = mini1\n",
        "    return ret"
      ]
    },
    {
      "cell_type": "code",
      "execution_count": null,
      "metadata": {
        "id": "DXTJhZ1Qi37U"
      },
      "outputs": [],
      "source": [
        "import matplotlib.pyplot as plt\n",
        "import numpy as np"
      ]
    },
    {
      "cell_type": "code",
      "execution_count": null,
      "metadata": {
        "colab": {
          "base_uri": "https://localhost:8080/",
          "height": 248
        },
        "id": "IbUyv9A2i7YT",
        "outputId": "b6dac10e-182d-4414-bf59-5ab7f16d5940"
      },
      "outputs": [
        {
          "output_type": "display_data",
          "data": {
            "text/plain": [
              "<Figure size 432x288 with 10 Axes>"
            ],
            "image/png": "[encoded data removed]"
          },
          "metadata": {
            "needs_background": "light"
          }
        }
      ],
      "source": [
        "def plotting_characters(s,biggie,contours):\n",
        "  fig, axs = plt.subplots(2, 5)\n",
        "  wow = plotting(-1,s,biggie,contours)\n",
        "  axs[0, 0].imshow(thresh1[wow[0]-2:wow[1]+2, wow[2]-2:wow[3]+2], cmap = 'gray')\n",
        "  axs[0,0].axis('off')\n",
        "  wow = plotting(-2,s,biggie,contours)\n",
        "  axs[0, 1].imshow(thresh1[wow[0]-2:wow[1]+2, wow[2]-2:wow[3]+2], cmap = 'gray')\n",
        "  axs[0,1].axis('off')\n",
        "  wow = plotting(-3,s,biggie,contours)\n",
        "  axs[0,2].imshow(thresh1[wow[0]-2:wow[1]+2, wow[2]-2:wow[3]+2], cmap = 'gray')\n",
        "  axs[0,2].axis('off')\n",
        "  wow = plotting(-4,s,biggie,contours)\n",
        "  axs[0,3].imshow(thresh1[wow[0]-2:wow[1]+2, wow[2]-2:wow[3]+2], cmap = 'gray')\n",
        "  axs[0,3].axis('off')\n",
        "  wow = plotting(-5,s,biggie,contours)\n",
        "  axs[0,4].imshow(thresh1[wow[0]-2:wow[1]+2, wow[2]-2:wow[3]+2], cmap = 'gray')\n",
        "  axs[0,4].axis('off')\n",
        "  wow = plotting(-6,s,biggie,contours)\n",
        "  axs[1,0].imshow(thresh1[wow[0]-2:wow[1]+2, wow[2]-2:wow[3]+2], cmap = 'gray')\n",
        "  axs[1,0].axis('off')\n",
        "  wow = plotting(-7,s,biggie,contours)\n",
        "  axs[1,1].imshow(thresh1[wow[0]-2:wow[1]+2, wow[2]-2:wow[3]+2], cmap = 'gray')\n",
        "  axs[1,1].axis('off')\n",
        "  wow = plotting(-8,s,biggie,contours)\n",
        "  axs[1,2].imshow(thresh1[wow[0]-2:wow[1]+2, wow[2]-2:wow[3]+2], cmap = 'gray')\n",
        "  axs[1,2].axis('off')\n",
        "  wow = plotting(-9,s,biggie,contours)\n",
        "  axs[1,3].imshow(thresh1[wow[0]-2:wow[1]+2, wow[2]-2:wow[3]+2], cmap = 'gray')\n",
        "  axs[1,3].axis('off')\n",
        "  wow = plotting(-10,s,biggie,contours)\n",
        "  axs[1,4].imshow(thresh1[wow[0]-2:wow[1]+2, wow[2]-2:wow[3]+2], cmap = 'gray')\n",
        "  axs[1,4].axis('off')\n",
        "biggie = sorted(x, key=x.get)\n",
        "s={}\n",
        "plotting_characters(s,biggie,contours)\n"
      ]
    },
    {
      "cell_type": "code",
      "execution_count": null,
      "metadata": {
        "colab": {
          "base_uri": "https://localhost:8080/"
        },
        "id": "CUmlfVoRkSYv",
        "outputId": "32c21ce9-7920-49a0-d0fb-6704b16b1a9e"
      },
      "outputs": [
        {
          "output_type": "stream",
          "name": "stdout",
          "text": [
            "6\n"
          ]
        }
      ],
      "source": [
        "siggie = sorted(s, key=s.get)\n",
        "print(biggie[siggie[0]])"
      ]
    },
    {
      "cell_type": "code",
      "execution_count": null,
      "metadata": {
        "id": "CDS800fhi6aC"
      },
      "outputs": [],
      "source": [
        "def borders_left_to_right(num,siggie,contours):\n",
        "    m = biggie[siggie[num]]\n",
        "    mini = 1000\n",
        "    for k in range(len(contours[m])):\n",
        "        first = contours[m][k][0][0]\n",
        "        if first < mini:\n",
        "            mini = first\n",
        "    mini1 = mini\n",
        "    #print(mini1)\n",
        "\n",
        "    mini = 1000\n",
        "    for k in range(len(contours[m])):\n",
        "        first = contours[m][k][0][1]\n",
        "        if first < mini:\n",
        "            mini = first\n",
        "    mini2 = mini\n",
        "   # print(mini2)\n",
        "\n",
        "    maxi = 0\n",
        "    for k in range(len(contours[m])):\n",
        "        first = contours[m][k][0][1]\n",
        "        if first > maxi:\n",
        "            maxi = first\n",
        "    maxi2 = maxi\n",
        "    #print(maxi2)\n",
        "\n",
        "    maxi = 0\n",
        "    for k in range(len(contours[m])):\n",
        "        first = contours[m][k][0][0]\n",
        "        if first > maxi:\n",
        "            maxi = first\n",
        "    maxi1 = maxi\n",
        "    #print(maxi1)\n",
        "    ret = [mini2, maxi2, mini1, maxi1]\n",
        "    return ret"
      ]
    },
    {
      "cell_type": "code",
      "execution_count": null,
      "metadata": {
        "colab": {
          "base_uri": "https://localhost:8080/",
          "height": 247
        },
        "id": "HyokzU5DjKzy",
        "outputId": "aa89fe84-cbb8-4c8d-9236-d6bf76072e9f"
      },
      "outputs": [
        {
          "output_type": "display_data",
          "data": {
            "text/plain": [
              "<Figure size 432x288 with 10 Axes>"
            ],
            "image/png": "[encoded data removed]"
          },
          "metadata": {
            "needs_background": "light"
          }
        }
      ],
      "source": [
        "def plotting_left_to_right(siggie,contours):\n",
        "  fig, axs = plt.subplots(2, 5)\n",
        "  wow = borders_left_to_right(0,siggie,contours)\n",
        "  axs[0, 0].imshow(thresh1[wow[0]-2:wow[1]+2, wow[2]-2:wow[3]+2], cmap = 'gray')\n",
        "  axs[0,0].axis('off')\n",
        "  wow = borders_left_to_right(1,siggie,contours)\n",
        "  axs[0, 1].imshow(thresh1[wow[0]-2:wow[1]+2, wow[2]-2:wow[3]+2], cmap = 'gray')\n",
        "  axs[0,1].axis('off')\n",
        "  wow = borders_left_to_right(2,siggie,contours)\n",
        "  axs[0,2].imshow(thresh1[wow[0]-2:wow[1]+2, wow[2]-2:wow[3]+2], cmap = 'gray')\n",
        "  axs[0,2].axis('off')\n",
        "  wow = borders_left_to_right(3,siggie,contours)\n",
        "  axs[0,3].imshow(thresh1[wow[0]-2:wow[1]+2, wow[2]-2:wow[3]+2], cmap = 'gray')\n",
        "  axs[0,3].axis('off')\n",
        "  wow = borders_left_to_right(4,siggie,contours)\n",
        "  axs[0,4].imshow(thresh1[wow[0]-2:wow[1]+2, wow[2]-2:wow[3]+2], cmap = 'gray')\n",
        "  axs[0,4].axis('off')\n",
        "  wow = borders_left_to_right(5,siggie,contours)\n",
        "  axs[1,0].imshow(thresh1[wow[0]-2:wow[1]+2, wow[2]-2:wow[3]+2], cmap = 'gray')\n",
        "  axs[1,0].axis('off')\n",
        "  wow = borders_left_to_right(6,siggie,contours)\n",
        "  axs[1,1].imshow(thresh1[wow[0]-2:wow[1]+2, wow[2]-2:wow[3]+2], cmap = 'gray')\n",
        "  axs[1,1].axis('off')\n",
        "  wow = borders_left_to_right(7,siggie,contours)\n",
        "  axs[1,2].imshow(thresh1[wow[0]-2:wow[1]+2, wow[2]-2:wow[3]+2], cmap = 'gray')\n",
        "  axs[1,2].axis('off')\n",
        "  wow = borders_left_to_right(8,siggie,contours)\n",
        "  axs[1,3].imshow(thresh1[wow[0]-2:wow[1]+2, wow[2]-2:wow[3]+2], cmap = 'gray')\n",
        "  axs[1,3].axis('off')\n",
        "  wow = borders_left_to_right(9,siggie,contours)\n",
        "  axs[1,4].imshow(thresh1[wow[0]-2:wow[1]+2, wow[2]-2:wow[3]+2], cmap = 'gray')\n",
        "  axs[1,4].axis('off')\n",
        "plotting_left_to_right(siggie,contours)"
      ]
    },
    {
      "cell_type": "code",
      "execution_count": null,
      "metadata": {
        "colab": {
          "base_uri": "https://localhost:8080/",
          "height": 36
        },
        "id": "q4nex3EsmJCg",
        "outputId": "88ecff9a-0fa7-4837-9df3-c48645dce8fc"
      },
      "outputs": [
        {
          "output_type": "execute_result",
          "data": {
            "text/plain": [
              "'00TDWu131v'"
            ],
            "application/vnd.google.colaboratory.intrinsic+json": {
              "type": "string"
            }
          },
          "metadata": {},
          "execution_count": 21
        }
      ],
      "source": [
        "labels[5]"
      ]
    },
    {
      "cell_type": "code",
      "execution_count": null,
      "metadata": {
        "colab": {
          "base_uri": "https://localhost:8080/",
          "height": 175
        },
        "id": "HRgx6JdRltme",
        "outputId": "41a4a250-7d0c-4317-c7dd-48313664e010"
      },
      "outputs": [
        {
          "output_type": "execute_result",
          "data": {
            "text/plain": [
              "<matplotlib.image.AxesImage at 0x7fba183e3d10>"
            ]
          },
          "metadata": {},
          "execution_count": 22
        },
        {
          "output_type": "display_data",
          "data": {
            "text/plain": [
              "<Figure size 432x288 with 1 Axes>"
            ],
            "image/png": "[encoded data removed]"
          },
          "metadata": {
            "needs_background": "light"
          }
        }
      ],
      "source": [
        "plt.imshow(thresh1,cmap='gray')"
      ]
    },
    {
      "cell_type": "code",
      "execution_count": null,
      "metadata": {
        "id": "4ggcYHK7_mPq"
      },
      "outputs": [],
      "source": [
        "def checkforerror(wow):\n",
        "    white = cv2.countNonZero(thresh1[wow[0]-2:wow[1]+2, wow[2]-2:wow[3]+2])\n",
        "    total = (thresh1[wow[0]-2:wow[1]+2, wow[2]-2:wow[3]+2]).shape[0] * (thresh1[wow[0]-2:wow[1]+2, wow[2]-2:wow[3]+2]).shape[1]\n",
        "    div = white/total\n",
        "    if div > 0.63: \n",
        "        if (wow[1] - wow[0]) - (wow[3] - wow[2]) > -5:\n",
        "            return True\n",
        "    elif div < 0.29:\n",
        "        return True\n",
        "    else: return False\n",
        "def checkforerrorout(wow):\n",
        "    white = cv2.countNonZero(thresh1[wow[0]-2:wow[1]+2, wow[2]-2:wow[3]+2])\n",
        "    total = (thresh1[wow[0]-2:wow[1]+2, wow[2]-2:wow[3]+2]).shape[0] * (thresh1[wow[0]-2:wow[1]+2, wow[2]-2:wow[3]+2]).shape[1]\n",
        "    div = white/total\n",
        "    return div\n",
        "def checkfordoubles(wow):\n",
        "    if (wow[1] - wow[0]) - (wow[3] - wow[2]) < -4: \n",
        "        if checkforerrorout(wow) < 0.56: return True\n",
        "    elif (wow[1] - wow[0]) - (wow[3] - wow[2]) < 1:\n",
        "        if checkforerrorout(wow) < 0.40: return True\n",
        "    else: return False"
      ]
    },
    {
      "cell_type": "code",
      "execution_count": null,
      "metadata": {
        "colab": {
          "base_uri": "https://localhost:8080/",
          "height": 352
        },
        "id": "XuXwVZCw_2zr",
        "outputId": "0ac6a62e-1e31-4576-984f-b729f2cffbc9"
      },
      "outputs": [
        {
          "output_type": "stream",
          "name": "stdout",
          "text": [
            "test 1 False\n",
            "False\n",
            "0.4968421052631579\n",
            "False\n",
            "test 2 False\n"
          ]
        },
        {
          "output_type": "display_data",
          "data": {
            "text/plain": [
              "<Figure size 432x288 with 1 Axes>"
            ],
            "image/png": "[encoded data removed]"
          },
          "metadata": {
            "needs_background": "light"
          }
        }
      ],
      "source": [
        "wow = plotting(siggie[0],s,biggie,contours)\n",
        "plt.imshow(thresh1[wow[0]-2:wow[1]+2, wow[2]-2:wow[3]+2], cmap = 'gray')\n",
        "print('test 1', checkforerror(wow))\n",
        "print((wow[1] - wow[0]) - (wow[3] - wow[2]) < -4)\n",
        "print(checkforerrorout(wow))\n",
        "\n",
        "print((wow[1] - wow[0]) - (wow[3] - wow[2]) < 1)\n",
        "print('test 2', checkfordoubles(wow))"
      ]
    },
    {
      "cell_type": "code",
      "execution_count": null,
      "metadata": {
        "colab": {
          "base_uri": "https://localhost:8080/",
          "height": 36
        },
        "id": "ZSqxTa67AOCf",
        "outputId": "8cee1f1d-22f6-4b4d-cdc4-ec7036afee94"
      },
      "outputs": [
        {
          "output_type": "execute_result",
          "data": {
            "text/plain": [
              "'0'"
            ],
            "application/vnd.google.colaboratory.intrinsic+json": {
              "type": "string"
            }
          },
          "metadata": {},
          "execution_count": 25
        }
      ],
      "source": [
        "labels[5][0]"
      ]
    },
    {
      "cell_type": "code",
      "execution_count": null,
      "metadata": {
        "colab": {
          "base_uri": "https://localhost:8080/",
          "height": 107
        },
        "id": "Yt7hT1Cu4LEV",
        "outputId": "f6ca746b-b11f-48ef-bab3-b32e21f86d34"
      },
      "outputs": [
        {
          "output_type": "display_data",
          "data": {
            "text/plain": [
              "<PIL.Image.Image image mode=RGB size=282x90 at 0x7FB996437290>"
            ],
            "image/png": "[encoded data removed]"
          },
          "metadata": {}
        }
      ],
      "source": [
        "test_captcha=images[0]\n",
        "image1=cv2.imread(test_captcha)\n",
        "cv2_imshow(image1)"
      ]
    },
    {
      "cell_type": "code",
      "execution_count": null,
      "metadata": {
        "id": "eWKITyQ16sF8"
      },
      "outputs": [],
      "source": [
        "thresh1=convert_binary(test_captcha)\n",
        "contours1=find_contours(thresh1)\n",
        "x1=find_contour_size(contours1)"
      ]
    },
    {
      "cell_type": "code",
      "execution_count": null,
      "metadata": {
        "colab": {
          "base_uri": "https://localhost:8080/",
          "height": 227
        },
        "id": "71IGQwjK9RXq",
        "outputId": "bf42214e-fa08-4a3a-83e6-5e5afabd2388"
      },
      "outputs": [
        {
          "output_type": "display_data",
          "data": {
            "text/plain": [
              "<Figure size 432x288 with 10 Axes>"
            ],
            "image/png": "[encoded data removed]"
          },
          "metadata": {
            "needs_background": "light"
          }
        }
      ],
      "source": [
        "biggie = sorted(x1, key=x1.get)\n",
        "s={}\n",
        "plotting_characters(s,biggie,contours1)"
      ]
    },
    {
      "cell_type": "code",
      "execution_count": null,
      "metadata": {
        "colab": {
          "base_uri": "https://localhost:8080/",
          "height": 227
        },
        "id": "nJkkz00Mrwth",
        "outputId": "6febb163-9800-4bd1-b578-09e31371eb51"
      },
      "outputs": [
        {
          "output_type": "display_data",
          "data": {
            "text/plain": [
              "<Figure size 432x288 with 10 Axes>"
            ],
            "image/png": "[encoded data removed]"
          },
          "metadata": {
            "needs_background": "light"
          }
        }
      ],
      "source": [
        "siggie = sorted(s, key=s.get)\n",
        "plotting_left_to_right(siggie,contours1)"
      ]
    },
    {
      "cell_type": "code",
      "execution_count": null,
      "metadata": {
        "id": "buANpk-svr5G"
      },
      "outputs": [],
      "source": [
        "model_path='/content/drive/MyDrive/captcha_models/my_best_model.epoch15-loss0.10.hdf5'\n",
        "from keras.models import load_model\n",
        "proposed_model=load_model(model_path)"
      ]
    },
    {
      "cell_type": "code",
      "execution_count": null,
      "metadata": {
        "id": "VTIq4tH6uK9j",
        "colab": {
          "base_uri": "https://localhost:8080/",
          "height": 248
        },
        "outputId": "7681fbb4-4b60-4342-e69f-66e98c5cebb4"
      },
      "outputs": [
        {
          "output_type": "display_data",
          "data": {
            "text/plain": [
              "<Figure size 432x288 with 1 Axes>"
            ],
            "image/png": "[encoded data removed]"
          },
          "metadata": {
            "needs_background": "light"
          }
        }
      ],
      "source": [
        "from PIL import Image \n",
        "import PIL \n",
        "img1=[]\n",
        "for i in range(0,10):\n",
        "  wow = borders_left_to_right(i,siggie,contours1)\n",
        "  img1.append(thresh1[wow[0]-2:wow[1]+2 ,wow[2]-2:wow[3]+2])\n",
        "  plt.axis('off')\n",
        "  plt.imshow(img1[i],cmap='gray')\n",
        "  name=\"letter\"+str(i)+\".png\"\n",
        "  plt.savefig(name,bbox_inches='tight')"
      ]
    },
    {
      "cell_type": "code",
      "source": [
        "from keras.preprocessing.image import img_to_array\n",
        "from keras.preprocessing import image\n",
        "import matplotlib.pyplot as plt\n",
        "from tensorflow.keras.applications.resnet50 import preprocess_input,decode_predictions\n",
        "import numpy"
      ],
      "metadata": {
        "id": "RtJkRZBayq69"
      },
      "execution_count": null,
      "outputs": []
    },
    {
      "cell_type": "code",
      "source": [
        "dict = {0: '0', 1: '1', 2: '2', 3: '3', 4: '4', 5: '5', 6: '6', 7: '7', 8: '8', 9: '9', 10: 'A',\n",
        "       11: 'B', 12: 'C', 13: 'D', 14: 'E', 15: 'F', 16: 'G', 17: 'H', 18: 'I', 19: 'J', 20: 'K',\n",
        "       21: 'L', 22: 'M', 23: 'N', 24: 'O', 25: 'P', 26: 'Q', 27: 'R', 28: 'S', 29: 'T', 30: 'U',\n",
        "       31: 'V', 32: 'W', 33: 'X', 34: 'Y', 35: 'Z', 36: 'a', 37: 'b', 38: 'c', 39: 'd', 40: 'e',\n",
        "       41: 'f', 42: 'g', 43: 'h', 44: 'i', 45: 'j', 46: 'k', 47: 'l', 48: 'm', 49: 'n', 50: 'o', \n",
        "       51: 'p', 52: 'q', 53: 'r', 54: 's', 55: 't', 56: 'u', 57: 'v', 58: 'w', 59: 'x', 60: 'y',\n",
        "       61: 'z'}"
      ],
      "metadata": {
        "id": "XUEuRxtmy3el"
      },
      "execution_count": null,
      "outputs": []
    },
    {
      "cell_type": "code",
      "source": [
        "def find_letter(file_loc,rank):\n",
        "  test_image = image.load_img(file_loc,target_size=(224,224))\n",
        "  numpy_image = img_to_array(test_image)\n",
        "  image_batch = np.expand_dims(numpy_image, axis = 0)\n",
        "  predictions=proposed_model.predict(image_batch)\n",
        "  k=numpy.argsort(predictions[0])\n",
        "  prob.append(predictions[0][62-rank])\n",
        "  return dict[k[62-rank]]"
      ],
      "metadata": {
        "id": "cjHW76PtDJX9"
      },
      "execution_count": null,
      "outputs": []
    },
    {
      "cell_type": "code",
      "execution_count": null,
      "metadata": {
        "id": "T01wIHi-xhnk"
      },
      "outputs": [],
      "source": [
        "result=\"\"\n",
        "prob=[]\n",
        "for i in range(0,10):\n",
        "  file_loc=\"/content/letter\"+str(i)+\".png\"\n",
        "  result_letter=find_letter(file_loc,1)\n",
        "  result=result+result_letter"
      ]
    },
    {
      "cell_type": "code",
      "source": [
        "result"
      ],
      "metadata": {
        "colab": {
          "base_uri": "https://localhost:8080/",
          "height": 36
        },
        "id": "4WMnsdrEJs-q",
        "outputId": "c26427c4-b02b-4547-f023-304aea869320"
      },
      "execution_count": null,
      "outputs": [
        {
          "output_type": "execute_result",
          "data": {
            "text/plain": [
              "'004rVO6G09'"
            ],
            "application/vnd.google.colaboratory.intrinsic+json": {
              "type": "string"
            }
          },
          "metadata": {},
          "execution_count": 67
        }
      ]
    },
    {
      "cell_type": "code",
      "source": [
        "prob"
      ],
      "metadata": {
        "colab": {
          "base_uri": "https://localhost:8080/"
        },
        "id": "TQCyWFDTLz59",
        "outputId": "5c04108b-e6af-4b7c-9fd7-ba2a63471ded"
      },
      "execution_count": null,
      "outputs": [
        {
          "output_type": "execute_result",
          "data": {
            "text/plain": [
              "[7.492279e-11,\n",
              " 5.488779e-12,\n",
              " 5.199694e-15,\n",
              " 1.8241185e-09,\n",
              " 6.704907e-10,\n",
              " 4.689685e-12,\n",
              " 1.5401717e-08,\n",
              " 3.5986168e-12,\n",
              " 0.24845378,\n",
              " 1.7881623e-10]"
            ]
          },
          "metadata": {},
          "execution_count": 54
        }
      ]
    },
    {
      "cell_type": "code",
      "source": [
        "prob_sorted=numpy.argsort(prob)"
      ],
      "metadata": {
        "id": "MS_0HRouCVYl"
      },
      "execution_count": null,
      "outputs": []
    },
    {
      "cell_type": "code",
      "source": [
        "k=find_letter(\"/content/letter\"+str(prob_sorted[2])+\".png\",3)"
      ],
      "metadata": {
        "id": "aPectrUKL_ei"
      },
      "execution_count": null,
      "outputs": []
    },
    {
      "cell_type": "code",
      "source": [
        "k"
      ],
      "metadata": {
        "id": "M9gNdZHaar0V",
        "colab": {
          "base_uri": "https://localhost:8080/",
          "height": 36
        },
        "outputId": "6ccfa5ea-744c-409e-8c13-ba1106766365"
      },
      "execution_count": null,
      "outputs": [
        {
          "output_type": "execute_result",
          "data": {
            "text/plain": [
              "'0'"
            ],
            "application/vnd.google.colaboratory.intrinsic+json": {
              "type": "string"
            }
          },
          "metadata": {},
          "execution_count": 41
        }
      ]
    },
    {
      "cell_type": "code",
      "source": [
        "result"
      ],
      "metadata": {
        "colab": {
          "base_uri": "https://localhost:8080/",
          "height": 36
        },
        "id": "aXqDGSIAVOG4",
        "outputId": "8aa8068b-1b4f-46dd-a5cf-55ccf83ad72b"
      },
      "execution_count": null,
      "outputs": [
        {
          "output_type": "execute_result",
          "data": {
            "text/plain": [
              "'0oAQ59vOx5'"
            ],
            "application/vnd.google.colaboratory.intrinsic+json": {
              "type": "string"
            }
          },
          "metadata": {},
          "execution_count": 42
        }
      ]
    },
    {
      "cell_type": "code",
      "source": [
        "cv2_imshow(image1)"
      ],
      "metadata": {
        "colab": {
          "base_uri": "https://localhost:8080/",
          "height": 107
        },
        "id": "6MxQRl5I_u3F",
        "outputId": "683115bc-93c1-4265-e086-619eb0c7b7c2"
      },
      "execution_count": null,
      "outputs": [
        {
          "output_type": "display_data",
          "data": {
            "text/plain": [
              "<PIL.Image.Image image mode=RGB size=282x90 at 0x7FB992E98250>"
            ],
            "image/png": "[encoded data removed]"
          },
          "metadata": {}
        }
      ]
    },
    {
      "cell_type": "code",
      "source": [
        "model_path='/content/drive/MyDrive/captcha_models/captcha_model.h5'\n",
        "from keras.models import load_model\n",
        "proposed_model=load_model(model_path)"
      ],
      "metadata": {
        "id": "zhc1I4A_XuPb",
        "colab": {
          "base_uri": "https://localhost:8080/",
          "height": 588
        },
        "outputId": "c9d6deb0-c89c-4f16-d8d5-fa567cc630b8"
      },
      "execution_count": null,
      "outputs": [
        {
          "output_type": "error",
          "ename": "KeyboardInterrupt",
          "evalue": "ignored",
          "traceback": [
            "\u001b[0;31m---------------------------------------------------------------------------\u001b[0m",
            "\u001b[0;31mKeyboardInterrupt\u001b[0m                         Traceback (most recent call last)",
            "\u001b[0;32m<ipython-input-44-e538e6bd445b>\u001b[0m in \u001b[0;36m<module>\u001b[0;34m()\u001b[0m\n\u001b[1;32m      1\u001b[0m \u001b[0mmodel_path\u001b[0m\u001b[0;34m=\u001b[0m\u001b[0;34m'/content/drive/MyDrive/captcha_models/captcha_model.h5'\u001b[0m\u001b[0;34m\u001b[0m\u001b[0;34m\u001b[0m\u001b[0m\n\u001b[1;32m      2\u001b[0m \u001b[0;32mfrom\u001b[0m \u001b[0mkeras\u001b[0m\u001b[0;34m.\u001b[0m\u001b[0mmodels\u001b[0m \u001b[0;32mimport\u001b[0m \u001b[0mload_model\u001b[0m\u001b[0;34m\u001b[0m\u001b[0;34m\u001b[0m\u001b[0m\n\u001b[0;32m----> 3\u001b[0;31m \u001b[0mproposed_model\u001b[0m\u001b[0;34m=\u001b[0m\u001b[0mload_model\u001b[0m\u001b[0;34m(\u001b[0m\u001b[0mmodel_path\u001b[0m\u001b[0;34m)\u001b[0m\u001b[0;34m\u001b[0m\u001b[0;34m\u001b[0m\u001b[0m\n\u001b[0m",
            "\u001b[0;32m/usr/local/lib/python3.7/dist-packages/keras/utils/traceback_utils.py\u001b[0m in \u001b[0;36merror_handler\u001b[0;34m(*args, **kwargs)\u001b[0m\n\u001b[1;32m     62\u001b[0m     \u001b[0mfiltered_tb\u001b[0m \u001b[0;34m=\u001b[0m \u001b[0;32mNone\u001b[0m\u001b[0;34m\u001b[0m\u001b[0;34m\u001b[0m\u001b[0m\n\u001b[1;32m     63\u001b[0m     \u001b[0;32mtry\u001b[0m\u001b[0;34m:\u001b[0m\u001b[0;34m\u001b[0m\u001b[0;34m\u001b[0m\u001b[0m\n\u001b[0;32m---> 64\u001b[0;31m       \u001b[0;32mreturn\u001b[0m \u001b[0mfn\u001b[0m\u001b[0;34m(\u001b[0m\u001b[0;34m*\u001b[0m\u001b[0margs\u001b[0m\u001b[0;34m,\u001b[0m \u001b[0;34m**\u001b[0m\u001b[0mkwargs\u001b[0m\u001b[0;34m)\u001b[0m\u001b[0;34m\u001b[0m\u001b[0;34m\u001b[0m\u001b[0m\n\u001b[0m\u001b[1;32m     65\u001b[0m     \u001b[0;32mexcept\u001b[0m \u001b[0mException\u001b[0m \u001b[0;32mas\u001b[0m \u001b[0me\u001b[0m\u001b[0;34m:\u001b[0m  \u001b[0;31m# pylint: disable=broad-except\u001b[0m\u001b[0;34m\u001b[0m\u001b[0;34m\u001b[0m\u001b[0m\n\u001b[1;32m     66\u001b[0m       \u001b[0mfiltered_tb\u001b[0m \u001b[0;34m=\u001b[0m \u001b[0m_process_traceback_frames\u001b[0m\u001b[0;34m(\u001b[0m\u001b[0me\u001b[0m\u001b[0;34m.\u001b[0m\u001b[0m__traceback__\u001b[0m\u001b[0;34m)\u001b[0m\u001b[0;34m\u001b[0m\u001b[0;34m\u001b[0m\u001b[0m\n",
            "\u001b[0;32m/usr/local/lib/python3.7/dist-packages/keras/saving/save.py\u001b[0m in \u001b[0;36mload_model\u001b[0;34m(filepath, custom_objects, compile, options)\u001b[0m\n\u001b[1;32m    213\u001b[0m             return hdf5_format.load_model_from_hdf5(\n\u001b[1;32m    214\u001b[0m                 \u001b[0mtf\u001b[0m\u001b[0;34m.\u001b[0m\u001b[0mio\u001b[0m\u001b[0;34m.\u001b[0m\u001b[0mgfile\u001b[0m\u001b[0;34m.\u001b[0m\u001b[0mGFile\u001b[0m\u001b[0;34m(\u001b[0m\u001b[0mfilepath_str\u001b[0m\u001b[0;34m,\u001b[0m \u001b[0mmode\u001b[0m\u001b[0;34m=\u001b[0m\u001b[0;34m'rb'\u001b[0m\u001b[0;34m)\u001b[0m\u001b[0;34m,\u001b[0m \u001b[0mcustom_objects\u001b[0m\u001b[0;34m,\u001b[0m\u001b[0;34m\u001b[0m\u001b[0;34m\u001b[0m\u001b[0m\n\u001b[0;32m--> 215\u001b[0;31m                 compile)\n\u001b[0m\u001b[1;32m    216\u001b[0m         \u001b[0;32melif\u001b[0m \u001b[0mh5py\u001b[0m \u001b[0;32mis\u001b[0m \u001b[0;32mnot\u001b[0m \u001b[0;32mNone\u001b[0m \u001b[0;32mand\u001b[0m \u001b[0misinstance\u001b[0m\u001b[0;34m(\u001b[0m\u001b[0mfilepath\u001b[0m\u001b[0;34m,\u001b[0m \u001b[0mh5py\u001b[0m\u001b[0;34m.\u001b[0m\u001b[0mFile\u001b[0m\u001b[0;34m)\u001b[0m\u001b[0;34m:\u001b[0m\u001b[0;34m\u001b[0m\u001b[0;34m\u001b[0m\u001b[0m\n\u001b[1;32m    217\u001b[0m           return hdf5_format.load_model_from_hdf5(filepath, custom_objects,\n",
            "\u001b[0;32m/usr/local/lib/python3.7/dist-packages/keras/saving/hdf5_format.py\u001b[0m in \u001b[0;36mload_model_from_hdf5\u001b[0;34m(filepath, custom_objects, compile)\u001b[0m\n\u001b[1;32m    188\u001b[0m \u001b[0;34m\u001b[0m\u001b[0m\n\u001b[1;32m    189\u001b[0m     \u001b[0;31m# set weights\u001b[0m\u001b[0;34m\u001b[0m\u001b[0;34m\u001b[0m\u001b[0;34m\u001b[0m\u001b[0m\n\u001b[0;32m--> 190\u001b[0;31m     \u001b[0mload_weights_from_hdf5_group\u001b[0m\u001b[0;34m(\u001b[0m\u001b[0mf\u001b[0m\u001b[0;34m[\u001b[0m\u001b[0;34m'model_weights'\u001b[0m\u001b[0;34m]\u001b[0m\u001b[0;34m,\u001b[0m \u001b[0mmodel\u001b[0m\u001b[0;34m)\u001b[0m\u001b[0;34m\u001b[0m\u001b[0;34m\u001b[0m\u001b[0m\n\u001b[0m\u001b[1;32m    191\u001b[0m \u001b[0;34m\u001b[0m\u001b[0m\n\u001b[1;32m    192\u001b[0m     \u001b[0;32mif\u001b[0m \u001b[0mcompile\u001b[0m\u001b[0;34m:\u001b[0m\u001b[0;34m\u001b[0m\u001b[0;34m\u001b[0m\u001b[0m\n",
            "\u001b[0;32m/usr/local/lib/python3.7/dist-packages/keras/saving/hdf5_format.py\u001b[0m in \u001b[0;36mload_weights_from_hdf5_group\u001b[0;34m(f, model)\u001b[0m\n\u001b[1;32m    738\u001b[0m     \u001b[0mlayer\u001b[0m \u001b[0;34m=\u001b[0m \u001b[0mfiltered_layers\u001b[0m\u001b[0;34m[\u001b[0m\u001b[0mk\u001b[0m\u001b[0;34m]\u001b[0m\u001b[0;34m\u001b[0m\u001b[0;34m\u001b[0m\u001b[0m\n\u001b[1;32m    739\u001b[0m     \u001b[0msymbolic_weights\u001b[0m \u001b[0;34m=\u001b[0m \u001b[0m_legacy_weights\u001b[0m\u001b[0;34m(\u001b[0m\u001b[0mlayer\u001b[0m\u001b[0;34m)\u001b[0m\u001b[0;34m\u001b[0m\u001b[0;34m\u001b[0m\u001b[0m\n\u001b[0;32m--> 740\u001b[0;31m     \u001b[0mweight_values\u001b[0m \u001b[0;34m=\u001b[0m \u001b[0mload_subset_weights_from_hdf5_group\u001b[0m\u001b[0;34m(\u001b[0m\u001b[0mg\u001b[0m\u001b[0;34m)\u001b[0m\u001b[0;34m\u001b[0m\u001b[0;34m\u001b[0m\u001b[0m\n\u001b[0m\u001b[1;32m    741\u001b[0m     weight_values = preprocess_weights_for_loading(layer, weight_values,\n\u001b[1;32m    742\u001b[0m                                                    \u001b[0moriginal_keras_version\u001b[0m\u001b[0;34m,\u001b[0m\u001b[0;34m\u001b[0m\u001b[0;34m\u001b[0m\u001b[0m\n",
            "\u001b[0;32m/usr/local/lib/python3.7/dist-packages/keras/saving/hdf5_format.py\u001b[0m in \u001b[0;36mload_subset_weights_from_hdf5_group\u001b[0;34m(f)\u001b[0m\n\u001b[1;32m    684\u001b[0m   \"\"\"\n\u001b[1;32m    685\u001b[0m   \u001b[0mweight_names\u001b[0m \u001b[0;34m=\u001b[0m \u001b[0mload_attributes_from_hdf5_group\u001b[0m\u001b[0;34m(\u001b[0m\u001b[0mf\u001b[0m\u001b[0;34m,\u001b[0m \u001b[0;34m'weight_names'\u001b[0m\u001b[0;34m)\u001b[0m\u001b[0;34m\u001b[0m\u001b[0;34m\u001b[0m\u001b[0m\n\u001b[0;32m--> 686\u001b[0;31m   \u001b[0;32mreturn\u001b[0m \u001b[0;34m[\u001b[0m\u001b[0mnp\u001b[0m\u001b[0;34m.\u001b[0m\u001b[0masarray\u001b[0m\u001b[0;34m(\u001b[0m\u001b[0mf\u001b[0m\u001b[0;34m[\u001b[0m\u001b[0mweight_name\u001b[0m\u001b[0;34m]\u001b[0m\u001b[0;34m)\u001b[0m \u001b[0;32mfor\u001b[0m \u001b[0mweight_name\u001b[0m \u001b[0;32min\u001b[0m \u001b[0mweight_names\u001b[0m\u001b[0;34m]\u001b[0m\u001b[0;34m\u001b[0m\u001b[0;34m\u001b[0m\u001b[0m\n\u001b[0m\u001b[1;32m    687\u001b[0m \u001b[0;34m\u001b[0m\u001b[0m\n\u001b[1;32m    688\u001b[0m \u001b[0;34m\u001b[0m\u001b[0m\n",
            "\u001b[0;32m/usr/local/lib/python3.7/dist-packages/keras/saving/hdf5_format.py\u001b[0m in \u001b[0;36m<listcomp>\u001b[0;34m(.0)\u001b[0m\n\u001b[1;32m    684\u001b[0m   \"\"\"\n\u001b[1;32m    685\u001b[0m   \u001b[0mweight_names\u001b[0m \u001b[0;34m=\u001b[0m \u001b[0mload_attributes_from_hdf5_group\u001b[0m\u001b[0;34m(\u001b[0m\u001b[0mf\u001b[0m\u001b[0;34m,\u001b[0m \u001b[0;34m'weight_names'\u001b[0m\u001b[0;34m)\u001b[0m\u001b[0;34m\u001b[0m\u001b[0;34m\u001b[0m\u001b[0m\n\u001b[0;32m--> 686\u001b[0;31m   \u001b[0;32mreturn\u001b[0m \u001b[0;34m[\u001b[0m\u001b[0mnp\u001b[0m\u001b[0;34m.\u001b[0m\u001b[0masarray\u001b[0m\u001b[0;34m(\u001b[0m\u001b[0mf\u001b[0m\u001b[0;34m[\u001b[0m\u001b[0mweight_name\u001b[0m\u001b[0;34m]\u001b[0m\u001b[0;34m)\u001b[0m \u001b[0;32mfor\u001b[0m \u001b[0mweight_name\u001b[0m \u001b[0;32min\u001b[0m \u001b[0mweight_names\u001b[0m\u001b[0;34m]\u001b[0m\u001b[0;34m\u001b[0m\u001b[0;34m\u001b[0m\u001b[0m\n\u001b[0m\u001b[1;32m    687\u001b[0m \u001b[0;34m\u001b[0m\u001b[0m\n\u001b[1;32m    688\u001b[0m \u001b[0;34m\u001b[0m\u001b[0m\n",
            "\u001b[0;32mh5py/_objects.pyx\u001b[0m in \u001b[0;36mh5py._objects.with_phil.wrapper\u001b[0;34m()\u001b[0m\n",
            "\u001b[0;32mh5py/_objects.pyx\u001b[0m in \u001b[0;36mh5py._objects.with_phil.wrapper\u001b[0;34m()\u001b[0m\n",
            "\u001b[0;32m/usr/local/lib/python3.7/dist-packages/h5py/_hl/dataset.py\u001b[0m in \u001b[0;36m__array__\u001b[0;34m(self, dtype)\u001b[0m\n\u001b[1;32m   1007\u001b[0m             \u001b[0;32mreturn\u001b[0m \u001b[0marr\u001b[0m\u001b[0;34m\u001b[0m\u001b[0;34m\u001b[0m\u001b[0m\n\u001b[1;32m   1008\u001b[0m \u001b[0;34m\u001b[0m\u001b[0m\n\u001b[0;32m-> 1009\u001b[0;31m         \u001b[0mself\u001b[0m\u001b[0;34m.\u001b[0m\u001b[0mread_direct\u001b[0m\u001b[0;34m(\u001b[0m\u001b[0marr\u001b[0m\u001b[0;34m)\u001b[0m\u001b[0;34m\u001b[0m\u001b[0;34m\u001b[0m\u001b[0m\n\u001b[0m\u001b[1;32m   1010\u001b[0m         \u001b[0;32mreturn\u001b[0m \u001b[0marr\u001b[0m\u001b[0;34m\u001b[0m\u001b[0;34m\u001b[0m\u001b[0m\n\u001b[1;32m   1011\u001b[0m \u001b[0;34m\u001b[0m\u001b[0m\n",
            "\u001b[0;32m/usr/local/lib/python3.7/dist-packages/h5py/_hl/dataset.py\u001b[0m in \u001b[0;36mread_direct\u001b[0;34m(self, dest, source_sel, dest_sel)\u001b[0m\n\u001b[1;32m    968\u001b[0m \u001b[0;34m\u001b[0m\u001b[0m\n\u001b[1;32m    969\u001b[0m             \u001b[0;32mfor\u001b[0m \u001b[0mmspace\u001b[0m \u001b[0;32min\u001b[0m \u001b[0mdest_sel\u001b[0m\u001b[0;34m.\u001b[0m\u001b[0mbroadcast\u001b[0m\u001b[0;34m(\u001b[0m\u001b[0msource_sel\u001b[0m\u001b[0;34m.\u001b[0m\u001b[0mmshape\u001b[0m\u001b[0;34m)\u001b[0m\u001b[0;34m:\u001b[0m\u001b[0;34m\u001b[0m\u001b[0;34m\u001b[0m\u001b[0m\n\u001b[0;32m--> 970\u001b[0;31m                 \u001b[0mself\u001b[0m\u001b[0;34m.\u001b[0m\u001b[0mid\u001b[0m\u001b[0;34m.\u001b[0m\u001b[0mread\u001b[0m\u001b[0;34m(\u001b[0m\u001b[0mmspace\u001b[0m\u001b[0;34m,\u001b[0m \u001b[0mfspace\u001b[0m\u001b[0;34m,\u001b[0m \u001b[0mdest\u001b[0m\u001b[0;34m,\u001b[0m \u001b[0mdxpl\u001b[0m\u001b[0;34m=\u001b[0m\u001b[0mself\u001b[0m\u001b[0;34m.\u001b[0m\u001b[0m_dxpl\u001b[0m\u001b[0;34m)\u001b[0m\u001b[0;34m\u001b[0m\u001b[0;34m\u001b[0m\u001b[0m\n\u001b[0m\u001b[1;32m    971\u001b[0m \u001b[0;34m\u001b[0m\u001b[0m\n\u001b[1;32m    972\u001b[0m     \u001b[0;32mdef\u001b[0m \u001b[0mwrite_direct\u001b[0m\u001b[0;34m(\u001b[0m\u001b[0mself\u001b[0m\u001b[0;34m,\u001b[0m \u001b[0msource\u001b[0m\u001b[0;34m,\u001b[0m \u001b[0msource_sel\u001b[0m\u001b[0;34m=\u001b[0m\u001b[0;32mNone\u001b[0m\u001b[0;34m,\u001b[0m \u001b[0mdest_sel\u001b[0m\u001b[0;34m=\u001b[0m\u001b[0;32mNone\u001b[0m\u001b[0;34m)\u001b[0m\u001b[0;34m:\u001b[0m\u001b[0;34m\u001b[0m\u001b[0;34m\u001b[0m\u001b[0m\n",
            "\u001b[0;32mh5py/_objects.pyx\u001b[0m in \u001b[0;36mh5py._objects.with_phil.wrapper\u001b[0;34m()\u001b[0m\n",
            "\u001b[0;32mh5py/_objects.pyx\u001b[0m in \u001b[0;36mh5py._objects.with_phil.wrapper\u001b[0;34m()\u001b[0m\n",
            "\u001b[0;32mh5py/h5d.pyx\u001b[0m in \u001b[0;36mh5py.h5d.DatasetID.read\u001b[0;34m()\u001b[0m\n",
            "\u001b[0;32mh5py/_proxy.pyx\u001b[0m in \u001b[0;36mh5py._proxy.dset_rw\u001b[0;34m()\u001b[0m\n",
            "\u001b[0;32mh5py/h5fd.pyx\u001b[0m in \u001b[0;36mh5py.h5fd.H5FD_fileobj_read\u001b[0;34m()\u001b[0m\n",
            "\u001b[0;32m/usr/local/lib/python3.7/dist-packages/tensorflow/python/lib/io/file_io.py\u001b[0m in \u001b[0;36mread\u001b[0;34m(self, n)\u001b[0m\n\u001b[1;32m    117\u001b[0m     \u001b[0;32melse\u001b[0m\u001b[0;34m:\u001b[0m\u001b[0;34m\u001b[0m\u001b[0;34m\u001b[0m\u001b[0m\n\u001b[1;32m    118\u001b[0m       \u001b[0mlength\u001b[0m \u001b[0;34m=\u001b[0m \u001b[0mn\u001b[0m\u001b[0;34m\u001b[0m\u001b[0;34m\u001b[0m\u001b[0m\n\u001b[0;32m--> 119\u001b[0;31m     \u001b[0;32mreturn\u001b[0m \u001b[0mself\u001b[0m\u001b[0;34m.\u001b[0m\u001b[0m_prepare_value\u001b[0m\u001b[0;34m(\u001b[0m\u001b[0mself\u001b[0m\u001b[0;34m.\u001b[0m\u001b[0m_read_buf\u001b[0m\u001b[0;34m.\u001b[0m\u001b[0mread\u001b[0m\u001b[0;34m(\u001b[0m\u001b[0mlength\u001b[0m\u001b[0;34m)\u001b[0m\u001b[0;34m)\u001b[0m\u001b[0;34m\u001b[0m\u001b[0;34m\u001b[0m\u001b[0m\n\u001b[0m\u001b[1;32m    120\u001b[0m \u001b[0;34m\u001b[0m\u001b[0m\n\u001b[1;32m    121\u001b[0m   @deprecation.deprecated_args(\n",
            "\u001b[0;31mKeyboardInterrupt\u001b[0m: "
          ]
        }
      ]
    },
    {
      "cell_type": "code",
      "source": [
        ""
      ],
      "metadata": {
        "id": "1lCDvkdlmi9G"
      },
      "execution_count": null,
      "outputs": []
    }
  ],
  "metadata": {
    "colab": {
      "collapsed_sections": [],
      "name": "captcha_segmentation_output.ipynb",
      "provenance": [],
      "mount_file_id": "1D6lyx54p2cQwI-LBpPvpsOPxBgcIwpJs",
      "authorship_tag": "ABX9TyM/3zsXUOHOq2AUhCML1/DW",
      "include_colab_link": true
    },
    "kernelspec": {
      "display_name": "Python 3",
      "name": "python3"
    },
    "language_info": {
      "name": "python"
    }
  },
  "nbformat": 4,
  "nbformat_minor": 0
}