{
  "cells": [
    {
      "cell_type": "markdown",
      "metadata": {
        "id": "view-in-github",
        "colab_type": "text"
      },
      "source": [
        "<a href=\"https://colab.research.google.com/github/qwertymasterkey/captcha_recognition/blob/main/1_captcha_segmentation_output.ipynb\" target=\"_parent\"><img src=\"https://colab.research.google.com/assets/colab-badge.svg\" alt=\"Open In Colab\"/></a>"
      ]
    },
    {
      "cell_type": "code",
      "execution_count": null,
      "metadata": {
        "id": "-5yuUfSz7RAZ"
      },
      "outputs": [],
      "source": [
        "import os"
      ]
    },
    {
      "cell_type": "code",
      "execution_count": null,
      "metadata": {
        "colab": {
          "base_uri": "https://localhost:8080/"
        },
        "id": "eev3IoNcX2xb",
        "outputId": "a3d1bc94-a7c1-402e-dfc2-09bc9edfbed8"
      },
      "outputs": [
        {
          "name": "stdout",
          "output_type": "stream",
          "text": [
            "Mounted at /content/drive\n"
          ]
        }
      ],
      "source": [
        "from google.colab import drive\n",
        "drive.mount('/content/drive')"
      ]
    },
    {
      "cell_type": "code",
      "execution_count": null,
      "metadata": {
        "colab": {
          "base_uri": "https://localhost:8080/"
        },
        "id": "QwiRU7I382K4",
        "outputId": "7b657824-f7d1-4966-b10b-35ebc9f46b9c"
      },
      "outputs": [
        {
          "name": "stdout",
          "output_type": "stream",
          "text": [
            "Archive:  /content/drive/MyDrive/captcha_segment/dataset_archive.zip\n",
            "replace /content/drive/MyDrive/captcha_segment/tenletter_dataset/004rVO6G09.jpg? [y]es, [n]o, [A]ll, [N]one, [r]ename: n\n",
            "replace /content/drive/MyDrive/captcha_segment/tenletter_dataset/00949IT0LT.jpg? [y]es, [n]o, [A]ll, [N]one, [r]ename: N\n"
          ]
        }
      ],
      "source": [
        "!unzip /content/drive/MyDrive/captcha_segment/dataset_archive.zip -d /content/drive/MyDrive/captcha_segment/tenletter_dataset/"
      ]
    },
    {
      "cell_type": "code",
      "execution_count": null,
      "metadata": {
        "id": "qfX-RT8P9THw"
      },
      "outputs": [],
      "source": [
        "from pathlib import Path\n",
        "data_dir = Path(\"/content/drive/MyDrive/captcha_segment/tenletter_dataset\")"
      ]
    },
    {
      "cell_type": "code",
      "execution_count": null,
      "metadata": {
        "colab": {
          "background_save": true
        },
        "id": "TLpY7Kuo97ge"
      },
      "outputs": [],
      "source": [
        "images = sorted(list(map(str, list(data_dir.glob(\"*.jpg\")))))"
      ]
    },
    {
      "cell_type": "code",
      "execution_count": null,
      "metadata": {
        "colab": {
          "background_save": true
        },
        "id": "r1x_n78_-Dwl",
        "outputId": "c5456125-9e1c-46c8-8d4a-20f8949af7c8"
      },
      "outputs": [
        {
          "name": "stdout",
          "output_type": "stream",
          "text": [
            "Total Number of images found:  10000\n",
            "Total Number of labels found:  10000\n",
            "Number of unique letters:  62\n",
            "Characters present:  {'V', 'j', 'O', 'u', 'Q', 'd', '4', 'M', 'Z', 'I', 'S', 'z', 'B', 'e', '7', 'N', 'T', 'J', 'k', 'L', 'p', 't', 'q', 'X', '3', 'A', 'C', '8', 'G', 'v', 'x', '2', 'l', 'g', '6', 'E', 'n', 'P', 'D', 'f', 'H', 'W', 'a', '9', 'y', 'c', 'b', 's', 'r', 'F', 'Y', 'w', '5', '1', 'h', 'i', 'o', 'K', 'R', 'U', 'm', '0'}\n"
          ]
        }
      ],
      "source": [
        "labels = [img.split(os.path.sep)[-1].split(\".jpg\")[0] for img in images]\n",
        "characters = set(char for label in labels for char in label)\n",
        "print(\"Total Number of images found: \", len(images))\n",
        "print(\"Total Number of labels found: \", len(labels))\n",
        "print(\"Number of unique letters: \", len(characters))\n",
        "print(\"Characters present: \", characters)\n"
      ]
    },
    {
      "cell_type": "code",
      "execution_count": null,
      "metadata": {
        "colab": {
          "background_save": true
        },
        "id": "e2ALAIFA-bKW",
        "outputId": "9d07aedd-a013-426d-ba5c-021d367c7705"
      },
      "outputs": [
        {
          "name": "stdout",
          "output_type": "stream",
          "text": [
            "00TDWu131v\n"
          ]
        }
      ],
      "source": [
        "print(labels[5])"
      ]
    },
    {
      "cell_type": "code",
      "execution_count": null,
      "metadata": {
        "colab": {
          "background_save": true
        },
        "id": "eMjbMbHbCKmW",
        "outputId": "6ca27d50-9a6f-4d60-ade3-4fdc8191b4be"
      },
      "outputs": [
        {
          "data": {
            "image/png": "[encoded data removed]",
            "text/plain": [
              "<PIL.Image.Image image mode=RGB size=282x90 at 0x7F9AAF2D2D10>"
            ]
          },
          "metadata": {},
          "output_type": "display_data"
        }
      ],
      "source": [
        "import cv2\n",
        "from google.colab.patches import cv2_imshow\n",
        "images[5]\n",
        "image1=cv2.imread(images[5])\n",
        "cv2_imshow(image1)"
      ]
    },
    {
      "cell_type": "code",
      "execution_count": null,
      "metadata": {
        "colab": {
          "background_save": true
        },
        "id": "OjifXKdYCNyO",
        "outputId": "e4383c46-7a71-4299-d2bc-43ce301696de"
      },
      "outputs": [
        {
          "data": {
            "image/png": "[encoded data removed]",
            "text/plain": [
              "<PIL.Image.Image image mode=L size=282x90 at 0x7F9AA0A76550>"
            ]
          },
          "metadata": {},
          "output_type": "display_data"
        }
      ],
      "source": [
        "def convert_binary(image):\n",
        "  image1 = cv2.imread(image)\n",
        "  img = cv2.cvtColor(image1, cv2.COLOR_BGR2RGB)\n",
        "  img=cv2.cvtColor(img,cv2.COLOR_RGB2GRAY)\n",
        "  ret, thresh1 = cv2.threshold(img, 225, 255, cv2.THRESH_BINARY_INV)\n",
        "  return thresh1\n",
        "thresh1=convert_binary(images[5])\n",
        "cv2_imshow(thresh1)"
      ]
    },
    {
      "cell_type": "code",
      "execution_count": null,
      "metadata": {
        "colab": {
          "background_save": true
        },
        "id": "yP6xOWBVCxqo"
      },
      "outputs": [],
      "source": [
        "def find_contours(thresh1):\n",
        "  contours, hierarchy = cv2.findContours(thresh1, cv2.RETR_TREE, cv2.CHAIN_APPROX_SIMPLE)\n",
        "  return contours\n",
        "contours=find_contours(thresh1)\n",
        "image = cv2.drawContours(image1, contours, -1, (0, 255, 0), 2)"
      ]
    },
    {
      "cell_type": "code",
      "execution_count": null,
      "metadata": {
        "colab": {
          "background_save": true
        },
        "id": "k4M9pZBv8s9d",
        "outputId": "68d68b9c-f737-4fe1-8420-dea2c669a92c"
      },
      "outputs": [
        {
          "data": {
            "image/png": "[encoded data removed]",
            "text/plain": [
              "<PIL.Image.Image image mode=RGB size=282x90 at 0x7F9AA0A76F50>"
            ]
          },
          "metadata": {},
          "output_type": "display_data"
        }
      ],
      "source": [
        "cv2_imshow(image)"
      ]
    },
    {
      "cell_type": "code",
      "execution_count": null,
      "metadata": {
        "colab": {
          "background_save": true
        },
        "id": "-2KIwX4s86BA"
      },
      "outputs": [],
      "source": [
        "def find_contour_size(contours):\n",
        "  x={}\n",
        "  for m in range(len(contours)):\n",
        "      \n",
        "      mini = 1000\n",
        "      for k in range(len(contours[m])):\n",
        "          first = contours[m][k][0][1]\n",
        "          if first < mini:\n",
        "              mini = first\n",
        "      mini2 = mini\n",
        "      #print(mini2)\n",
        "      \n",
        "      maxi = 0\n",
        "      for k in range(len(contours[m])):\n",
        "          first = contours[m][k][0][1]\n",
        "          if first > maxi:\n",
        "              maxi = first\n",
        "      maxi2 = maxi\n",
        "      #print(maxi2)\n",
        "      x[m] = maxi2 - mini2\n",
        "  return x \n",
        "x=find_contour_size(contours)"
      ]
    },
    {
      "cell_type": "code",
      "execution_count": null,
      "metadata": {
        "colab": {
          "background_save": true
        },
        "id": "4aFHBwS4il-D"
      },
      "outputs": [],
      "source": [
        "biggie = sorted(x, key=x.get)"
      ]
    },
    {
      "cell_type": "code",
      "execution_count": null,
      "metadata": {
        "colab": {
          "background_save": true
        },
        "id": "Utch5AZ5-c6e",
        "outputId": "a0dfc82d-cb11-4d14-b627-149a2c51e4ed"
      },
      "outputs": [
        {
          "name": "stdout",
          "output_type": "stream",
          "text": [
            "[1, 14, 15, 17, 18, 0, 16, 7, 11, 13, 2, 3, 4, 8, 9, 10, 12, 6, 5]\n"
          ]
        }
      ],
      "source": [
        "print(biggie)"
      ]
    },
    {
      "cell_type": "code",
      "execution_count": null,
      "metadata": {
        "colab": {
          "background_save": true
        },
        "id": "UsRSfT81ATB9"
      },
      "outputs": [],
      "source": [
        "def plotting(num,s,biggie,contours):\n",
        "    m = biggie[num]\n",
        "    mini = 1000\n",
        "    for k in range(len(contours[m])):\n",
        "        first = contours[m][k][0][0]\n",
        "        if first < mini:\n",
        "            mini = first\n",
        "    mini1 = mini\n",
        "    #print(mini1)\n",
        "\n",
        "    mini = 1000\n",
        "    for k in range(len(contours[m])):\n",
        "        first = contours[m][k][0][1]\n",
        "        if first < mini:\n",
        "            mini = first\n",
        "    mini2 = mini\n",
        "   # print(mini2)\n",
        "\n",
        "    maxi = 0\n",
        "    for k in range(len(contours[m])):\n",
        "        first = contours[m][k][0][1]\n",
        "        if first > maxi:\n",
        "            maxi = first\n",
        "    maxi2 = maxi\n",
        "    #print(maxi2)\n",
        "\n",
        "    maxi = 0\n",
        "    for k in range(len(contours[m])):\n",
        "        first = contours[m][k][0][0]\n",
        "        if first > maxi:\n",
        "            maxi = first\n",
        "    maxi1 = maxi\n",
        "    #print(maxi1)\n",
        "    ret = [mini2, maxi2, mini1, maxi1]\n",
        "    s[num] = mini1\n",
        "    return ret"
      ]
    },
    {
      "cell_type": "code",
      "execution_count": null,
      "metadata": {
        "colab": {
          "background_save": true
        },
        "id": "DXTJhZ1Qi37U"
      },
      "outputs": [],
      "source": [
        "import matplotlib.pyplot as plt\n",
        "import numpy as np"
      ]
    },
    {
      "cell_type": "code",
      "execution_count": null,
      "metadata": {
        "colab": {
          "background_save": true
        },
        "id": "IbUyv9A2i7YT",
        "outputId": "634d1ea0-7162-450b-f5f8-64a6e412a45c"
      },
      "outputs": [
        {
          "data": {
            "image/png": "[encoded data removed]",
            "text/plain": [
              "<Figure size 432x288 with 10 Axes>"
            ]
          },
          "metadata": {},
          "output_type": "display_data"
        }
      ],
      "source": [
        "def plotting_characters(s,biggie,contours):\n",
        "  fig, axs = plt.subplots(2, 5)\n",
        "  wow = plotting(-1,s,biggie,contours)\n",
        "  axs[0, 0].imshow(thresh1[wow[0]-2:wow[1]+2, wow[2]-2:wow[3]+2], cmap = 'gray')\n",
        "  axs[0,0].axis('off')\n",
        "  wow = plotting(-2,s,biggie,contours)\n",
        "  axs[0, 1].imshow(thresh1[wow[0]-2:wow[1]+2, wow[2]-2:wow[3]+2], cmap = 'gray')\n",
        "  axs[0,1].axis('off')\n",
        "  wow = plotting(-3,s,biggie,contours)\n",
        "  axs[0,2].imshow(thresh1[wow[0]-2:wow[1]+2, wow[2]-2:wow[3]+2], cmap = 'gray')\n",
        "  axs[0,2].axis('off')\n",
        "  wow = plotting(-4,s,biggie,contours)\n",
        "  axs[0,3].imshow(thresh1[wow[0]-2:wow[1]+2, wow[2]-2:wow[3]+2], cmap = 'gray')\n",
        "  axs[0,3].axis('off')\n",
        "  wow = plotting(-5,s,biggie,contours)\n",
        "  axs[0,4].imshow(thresh1[wow[0]-2:wow[1]+2, wow[2]-2:wow[3]+2], cmap = 'gray')\n",
        "  axs[0,4].axis('off')\n",
        "  wow = plotting(-6,s,biggie,contours)\n",
        "  axs[1,0].imshow(thresh1[wow[0]-2:wow[1]+2, wow[2]-2:wow[3]+2], cmap = 'gray')\n",
        "  axs[1,0].axis('off')\n",
        "  wow = plotting(-7,s,biggie,contours)\n",
        "  axs[1,1].imshow(thresh1[wow[0]-2:wow[1]+2, wow[2]-2:wow[3]+2], cmap = 'gray')\n",
        "  axs[1,1].axis('off')\n",
        "  wow = plotting(-8,s,biggie,contours)\n",
        "  axs[1,2].imshow(thresh1[wow[0]-2:wow[1]+2, wow[2]-2:wow[3]+2], cmap = 'gray')\n",
        "  axs[1,2].axis('off')\n",
        "  wow = plotting(-9,s,biggie,contours)\n",
        "  axs[1,3].imshow(thresh1[wow[0]-2:wow[1]+2, wow[2]-2:wow[3]+2], cmap = 'gray')\n",
        "  axs[1,3].axis('off')\n",
        "  wow = plotting(-10,s,biggie,contours)\n",
        "  axs[1,4].imshow(thresh1[wow[0]-2:wow[1]+2, wow[2]-2:wow[3]+2], cmap = 'gray')\n",
        "  axs[1,4].axis('off')\n",
        "biggie = sorted(x, key=x.get)\n",
        "s={}\n",
        "plotting_characters(s,biggie,contours)\n"
      ]
    },
    {
      "cell_type": "code",
      "execution_count": null,
      "metadata": {
        "colab": {
          "background_save": true
        },
        "id": "CUmlfVoRkSYv",
        "outputId": "8baa16c3-d85b-446a-ca47-d21121cbafd7"
      },
      "outputs": [
        {
          "name": "stdout",
          "output_type": "stream",
          "text": [
            "6\n"
          ]
        }
      ],
      "source": [
        "siggie = sorted(s, key=s.get)\n",
        "print(biggie[siggie[0]])"
      ]
    },
    {
      "cell_type": "code",
      "execution_count": null,
      "metadata": {
        "colab": {
          "background_save": true
        },
        "id": "CDS800fhi6aC"
      },
      "outputs": [],
      "source": [
        "def borders_left_to_right(num,siggie,contours):\n",
        "    m = biggie[siggie[num]]\n",
        "    mini = 1000\n",
        "    for k in range(len(contours[m])):\n",
        "        first = contours[m][k][0][0]\n",
        "        if first < mini:\n",
        "            mini = first\n",
        "    mini1 = mini\n",
        "    #print(mini1)\n",
        "\n",
        "    mini = 1000\n",
        "    for k in range(len(contours[m])):\n",
        "        first = contours[m][k][0][1]\n",
        "        if first < mini:\n",
        "            mini = first\n",
        "    mini2 = mini\n",
        "   # print(mini2)\n",
        "\n",
        "    maxi = 0\n",
        "    for k in range(len(contours[m])):\n",
        "        first = contours[m][k][0][1]\n",
        "        if first > maxi:\n",
        "            maxi = first\n",
        "    maxi2 = maxi\n",
        "    #print(maxi2)\n",
        "\n",
        "    maxi = 0\n",
        "    for k in range(len(contours[m])):\n",
        "        first = contours[m][k][0][0]\n",
        "        if first > maxi:\n",
        "            maxi = first\n",
        "    maxi1 = maxi\n",
        "    #print(maxi1)\n",
        "    ret = [mini2, maxi2, mini1, maxi1]\n",
        "    return ret"
      ]
    },
    {
      "cell_type": "code",
      "execution_count": null,
      "metadata": {
        "colab": {
          "background_save": true
        },
        "id": "HyokzU5DjKzy",
        "outputId": "282c0856-844f-4383-ca90-faa7c7e558c8"
      },
      "outputs": [
        {
          "data": {
            "image/png": "[encoded data removed]",
            "text/plain": [
              "<Figure size 432x288 with 10 Axes>"
            ]
          },
          "metadata": {},
          "output_type": "display_data"
        }
      ],
      "source": [
        "def plotting_left_to_right(siggie,contours):\n",
        "  fig, axs = plt.subplots(2, 5)\n",
        "  wow = borders_left_to_right(0,siggie,contours)\n",
        "  axs[0, 0].imshow(thresh1[wow[0]-2:wow[1]+2, wow[2]-2:wow[3]+2], cmap = 'gray')\n",
        "  axs[0,0].axis('off')\n",
        "  wow = borders_left_to_right(1,siggie,contours)\n",
        "  axs[0, 1].imshow(thresh1[wow[0]-2:wow[1]+2, wow[2]-2:wow[3]+2], cmap = 'gray')\n",
        "  axs[0,1].axis('off')\n",
        "  wow = borders_left_to_right(2,siggie,contours)\n",
        "  axs[0,2].imshow(thresh1[wow[0]-2:wow[1]+2, wow[2]-2:wow[3]+2], cmap = 'gray')\n",
        "  axs[0,2].axis('off')\n",
        "  wow = borders_left_to_right(3,siggie,contours)\n",
        "  axs[0,3].imshow(thresh1[wow[0]-2:wow[1]+2, wow[2]-2:wow[3]+2], cmap = 'gray')\n",
        "  axs[0,3].axis('off')\n",
        "  wow = borders_left_to_right(4,siggie,contours)\n",
        "  axs[0,4].imshow(thresh1[wow[0]-2:wow[1]+2, wow[2]-2:wow[3]+2], cmap = 'gray')\n",
        "  axs[0,4].axis('off')\n",
        "  wow = borders_left_to_right(5,siggie,contours)\n",
        "  axs[1,0].imshow(thresh1[wow[0]-2:wow[1]+2, wow[2]-2:wow[3]+2], cmap = 'gray')\n",
        "  axs[1,0].axis('off')\n",
        "  wow = borders_left_to_right(6,siggie,contours)\n",
        "  axs[1,1].imshow(thresh1[wow[0]-2:wow[1]+2, wow[2]-2:wow[3]+2], cmap = 'gray')\n",
        "  axs[1,1].axis('off')\n",
        "  wow = borders_left_to_right(7,siggie,contours)\n",
        "  axs[1,2].imshow(thresh1[wow[0]-2:wow[1]+2, wow[2]-2:wow[3]+2], cmap = 'gray')\n",
        "  axs[1,2].axis('off')\n",
        "  wow = borders_left_to_right(8,siggie,contours)\n",
        "  axs[1,3].imshow(thresh1[wow[0]-2:wow[1]+2, wow[2]-2:wow[3]+2], cmap = 'gray')\n",
        "  axs[1,3].axis('off')\n",
        "  wow = borders_left_to_right(9,siggie,contours)\n",
        "  axs[1,4].imshow(thresh1[wow[0]-2:wow[1]+2, wow[2]-2:wow[3]+2], cmap = 'gray')\n",
        "  axs[1,4].axis('off')\n",
        "plotting_left_to_right(siggie,contours)"
      ]
    },
    {
      "cell_type": "code",
      "execution_count": null,
      "metadata": {
        "colab": {
          "background_save": true
        },
        "id": "q4nex3EsmJCg",
        "outputId": "8ba18692-9c16-4402-8f52-153aa4ad6100"
      },
      "outputs": [
        {
          "data": {
            "application/vnd.google.colaboratory.intrinsic+json": {
              "type": "string"
            },
            "text/plain": [
              "'00TDWu131v'"
            ]
          },
          "execution_count": null,
          "metadata": {},
          "output_type": "execute_result"
        }
      ],
      "source": [
        "labels[5]"
      ]
    },
    {
      "cell_type": "code",
      "execution_count": null,
      "metadata": {
        "colab": {
          "background_save": true
        },
        "id": "HRgx6JdRltme",
        "outputId": "eed93eda-6ef5-4469-ea54-fd81cf1a69e4"
      },
      "outputs": [
        {
          "data": {
            "text/plain": [
              "<matplotlib.image.AxesImage at 0x7f9a9ffef490>"
            ]
          },
          "execution_count": null,
          "metadata": {},
          "output_type": "execute_result"
        },
        {
          "data": {
            "image/png": "[encoded data removed]",
            "text/plain": [
              "<Figure size 432x288 with 1 Axes>"
            ]
          },
          "metadata": {},
          "output_type": "display_data"
        }
      ],
      "source": [
        "plt.imshow(thresh1,cmap='gray')"
      ]
    },
    {
      "cell_type": "code",
      "execution_count": null,
      "metadata": {
        "colab": {
          "background_save": true
        },
        "id": "4ggcYHK7_mPq"
      },
      "outputs": [],
      "source": [
        "def checkforerror(wow):\n",
        "    white = cv2.countNonZero(thresh1[wow[0]-2:wow[1]+2, wow[2]-2:wow[3]+2])\n",
        "    total = (thresh1[wow[0]-2:wow[1]+2, wow[2]-2:wow[3]+2]).shape[0] * (thresh1[wow[0]-2:wow[1]+2, wow[2]-2:wow[3]+2]).shape[1]\n",
        "    div = white/total\n",
        "    if div > 0.63: \n",
        "        if (wow[1] - wow[0]) - (wow[3] - wow[2]) > -5:\n",
        "            return True\n",
        "    elif div < 0.29:\n",
        "        return True\n",
        "    else: return False\n",
        "def checkforerrorout(wow):\n",
        "    white = cv2.countNonZero(thresh1[wow[0]-2:wow[1]+2, wow[2]-2:wow[3]+2])\n",
        "    total = (thresh1[wow[0]-2:wow[1]+2, wow[2]-2:wow[3]+2]).shape[0] * (thresh1[wow[0]-2:wow[1]+2, wow[2]-2:wow[3]+2]).shape[1]\n",
        "    div = white/total\n",
        "    return div\n",
        "def checkfordoubles(wow):\n",
        "    if (wow[1] - wow[0]) - (wow[3] - wow[2]) < -4: \n",
        "        if checkforerrorout(wow) < 0.56: return True\n",
        "    elif (wow[1] - wow[0]) - (wow[3] - wow[2]) < 1:\n",
        "        if checkforerrorout(wow) < 0.40: return True\n",
        "    else: return False"
      ]
    },
    {
      "cell_type": "code",
      "execution_count": null,
      "metadata": {
        "colab": {
          "background_save": true
        },
        "id": "XuXwVZCw_2zr",
        "outputId": "43b5d7ed-e936-4e5f-fd26-8573db456211"
      },
      "outputs": [
        {
          "name": "stdout",
          "output_type": "stream",
          "text": [
            "test 1 False\n",
            "False\n",
            "0.4968421052631579\n",
            "False\n",
            "test 2 False\n"
          ]
        },
        {
          "data": {
            "image/png": "[encoded data removed]",
            "text/plain": [
              "<Figure size 432x288 with 1 Axes>"
            ]
          },
          "metadata": {},
          "output_type": "display_data"
        }
      ],
      "source": [
        "wow = plotting(siggie[0],s,biggie,contours)\n",
        "plt.imshow(thresh1[wow[0]-2:wow[1]+2, wow[2]-2:wow[3]+2], cmap = 'gray')\n",
        "print('test 1', checkforerror(wow))\n",
        "print((wow[1] - wow[0]) - (wow[3] - wow[2]) < -4)\n",
        "print(checkforerrorout(wow))\n",
        "\n",
        "print((wow[1] - wow[0]) - (wow[3] - wow[2]) < 1)\n",
        "print('test 2', checkfordoubles(wow))"
      ]
    },
    {
      "cell_type": "code",
      "execution_count": null,
      "metadata": {
        "colab": {
          "background_save": true
        },
        "id": "ZSqxTa67AOCf",
        "outputId": "a3abf9d1-1140-4b42-e317-c2e53ae74195"
      },
      "outputs": [
        {
          "data": {
            "application/vnd.google.colaboratory.intrinsic+json": {
              "type": "string"
            },
            "text/plain": [
              "'0'"
            ]
          },
          "execution_count": null,
          "metadata": {},
          "output_type": "execute_result"
        }
      ],
      "source": [
        "labels[5][0]"
      ]
    },
    {
      "cell_type": "code",
      "execution_count": null,
      "metadata": {
        "colab": {
          "background_save": true
        },
        "id": "upAoDBhkQLje"
      },
      "outputs": [],
      "source": [
        "from pathlib import Path\n",
        "data_dir = Path(\"/content/drive/MyDrive/captcha_models/Captchas_new\")\n",
        "images1 = sorted(list(map(str, list(data_dir.glob(\"*.jpg\")))))\n",
        "labels = [img.split(os.path.sep)[-1].split(\".jpg\")[0] for img in images1]"
      ]
    },
    {
      "cell_type": "code",
      "execution_count": null,
      "metadata": {
        "colab": {
          "background_save": true
        },
        "id": "xi55HRYBQ4-1"
      },
      "outputs": [],
      "source": [
        "model_path='/content/drive/MyDrive/my_best_model.epoch17-loss0.08.hdf5'\n",
        "from keras.models import load_model\n",
        "proposed_model=load_model(model_path)"
      ]
    },
    {
      "cell_type": "code",
      "execution_count": null,
      "metadata": {
        "colab": {
          "background_save": true
        },
        "id": "kgvyCnkEQ6IA"
      },
      "outputs": [],
      "source": [
        "from keras.preprocessing.image import img_to_array\n",
        "from keras.preprocessing import image\n",
        "import matplotlib.pyplot as plt\n",
        "from tensorflow.keras.applications.resnet50 import preprocess_input,decode_predictions\n",
        "import numpy"
      ]
    },
    {
      "cell_type": "code",
      "execution_count": null,
      "metadata": {
        "colab": {
          "background_save": true
        },
        "id": "XAA5Fb15RCdz"
      },
      "outputs": [],
      "source": [
        "dict = {0: '0', 1: '1', 2: '2', 3: '3', 4: '4', 5: '5', 6: '6', 7: '7', 8: '8', 9: '9', 10: 'A',\n",
        "       11: 'B', 12: 'C', 13: 'D', 14: 'E', 15: 'F', 16: 'G', 17: 'H', 18: 'I', 19: 'J', 20: 'K',\n",
        "       21: 'L', 22: 'M', 23: 'N', 24: 'O', 25: 'P', 26: 'Q', 27: 'R', 28: 'S', 29: 'T', 30: 'U',\n",
        "       31: 'V', 32: 'W', 33: 'X', 34: 'Y', 35: 'Z', 36: 'a', 37: 'b', 38: 'c', 39: 'd', 40: 'e',\n",
        "       41: 'f', 42: 'g', 43: 'h', 44: 'i', 45: 'j', 46: 'k', 47: 'l', 48: 'm', 49: 'n', 50: 'o', \n",
        "       51: 'p', 52: 'q', 53: 'r', 54: 's', 55: 't', 56: 'u', 57: 'v', 58: 'w', 59: 'x', 60: 'y',\n",
        "       61: 'z'}"
      ]
    },
    {
      "cell_type": "code",
      "execution_count": null,
      "metadata": {
        "colab": {
          "background_save": true
        },
        "id": "Yt7hT1Cu4LEV",
        "outputId": "8da1496a-0ff6-4cce-efac-9e5be3b96492"
      },
      "outputs": [
        {
          "data": {
            "image/png": "[encoded data removed]",
            "text/plain": [
              "<PIL.Image.Image image mode=RGB size=282x90 at 0x7F9A1E154410>"
            ]
          },
          "metadata": {},
          "output_type": "display_data"
        }
      ],
      "source": [
        "j=91\n",
        "test_captcha=images1[j]\n",
        "image1=cv2.imread(test_captcha)\n",
        "cv2_imshow(image1)"
      ]
    },
    {
      "cell_type": "code",
      "execution_count": null,
      "metadata": {
        "colab": {
          "background_save": true
        },
        "id": "eWKITyQ16sF8",
        "outputId": "69d41111-8c1c-4ba5-df17-497072bdc412"
      },
      "outputs": [
        {
          "data": {
            "image/png": "[encoded data removed]",
            "text/plain": [
              "<PIL.Image.Image image mode=L size=282x90 at 0x7F9A1E154850>"
            ]
          },
          "metadata": {},
          "output_type": "display_data"
        }
      ],
      "source": [
        "thresh1=convert_binary(test_captcha)\n",
        "cv2_imshow(thresh1)"
      ]
    },
    {
      "cell_type": "code",
      "execution_count": null,
      "metadata": {
        "colab": {
          "background_save": true
        },
        "id": "Mq1r8iwgjJAS",
        "outputId": "a749bf33-6b6a-47fc-b999-0c73aa1d2451"
      },
      "outputs": [
        {
          "data": {
            "image/png": "[encoded data removed]",
            "text/plain": [
              "<PIL.Image.Image image mode=RGB size=282x90 at 0x7F9A1E166450>"
            ]
          },
          "metadata": {},
          "output_type": "display_data"
        }
      ],
      "source": [
        "contours1=find_contours(thresh1)\n",
        "image2 = cv2.drawContours(image1, contours1, -1, (0, 255, 0), 2)\n",
        "cv2_imshow(image2)\n",
        "x1=find_contour_size(contours1)"
      ]
    },
    {
      "cell_type": "code",
      "execution_count": null,
      "metadata": {
        "colab": {
          "background_save": true
        },
        "id": "71IGQwjK9RXq",
        "outputId": "8a08ebd9-09ad-41c6-b014-121b82c90ea8"
      },
      "outputs": [
        {
          "data": {
            "image/png": "[encoded data removed]",
            "text/plain": [
              "<Figure size 432x288 with 10 Axes>"
            ]
          },
          "metadata": {},
          "output_type": "display_data"
        }
      ],
      "source": [
        "biggie = sorted(x1, key=x1.get)\n",
        "s={}\n",
        "plotting_characters(s,biggie,contours1)"
      ]
    },
    {
      "cell_type": "code",
      "execution_count": null,
      "metadata": {
        "colab": {
          "background_save": true
        },
        "id": "nJkkz00Mrwth",
        "outputId": "d33832e5-a5b0-49b0-c66c-b4f356a8c273"
      },
      "outputs": [
        {
          "data": {
            "image/png": "[encoded data removed]",
            "text/plain": [
              "<Figure size 432x288 with 10 Axes>"
            ]
          },
          "metadata": {},
          "output_type": "display_data"
        }
      ],
      "source": [
        "siggie = sorted(s, key=s.get)\n",
        "plotting_left_to_right(siggie,contours1)"
      ]
    },
    {
      "cell_type": "code",
      "execution_count": null,
      "metadata": {
        "id": "VTIq4tH6uK9j"
      },
      "outputs": [],
      "source": [
        "from PIL import Image \n",
        "import PIL \n",
        "img1=[]\n",
        "for i in range(0,10):\n",
        "  wow = borders_left_to_right(i,siggie,contours1)\n",
        "  img1.append(thresh1[wow[0]-2:wow[1]+2 ,wow[2]-2:wow[3]+2])\n",
        "  plt.axis('off')\n",
        "  plt.imshow(img1[i],cmap='gray')\n",
        "  name=\"letter\"+str(i)+\".png\"\n",
        "  plt.savefig(name,bbox_inches='tight')"
      ]
    },
    {
      "cell_type": "code",
      "execution_count": null,
      "metadata": {
        "colab": {
          "background_save": true
        },
        "id": "cjHW76PtDJX9"
      },
      "outputs": [],
      "source": [
        "def find_letter(file_loc,rank):\n",
        "  test_image = image.load_img(file_loc,target_size=(224,224))\n",
        "  numpy_image = img_to_array(test_image)\n",
        "  image_batch = np.expand_dims(numpy_image, axis = 0)\n",
        "  predictions=proposed_model.predict(image_batch)\n",
        "  k=numpy.argsort(predictions[0])\n",
        "  prob.append(max(predictions[0]))\n",
        "  return dict[k[62-rank]]"
      ]
    },
    {
      "cell_type": "code",
      "execution_count": null,
      "metadata": {
        "id": "T01wIHi-xhnk"
      },
      "outputs": [],
      "source": [
        "result=\"\"\n",
        "prob=[]\n",
        "for i in range(0,10):\n",
        "  file_loc=\"/content/letter\"+str(i)+\".png\"\n",
        "  result_letter=find_letter(file_loc,1)\n",
        "  result=result+result_letter"
      ]
    },
    {
      "cell_type": "markdown",
      "source": [
        "Prediction Results "
      ],
      "metadata": {
        "id": "xPYVu294WZiD"
      }
    },
    {
      "cell_type": "code",
      "execution_count": null,
      "metadata": {
        "colab": {
          "background_save": true
        },
        "id": "4WMnsdrEJs-q",
        "outputId": "7e4c92a5-519c-424c-8fc5-3985adf7336e"
      },
      "outputs": [
        {
          "data": {
            "application/vnd.google.colaboratory.intrinsic+json": {
              "type": "string"
            },
            "text/plain": [
              "'5SifUj1Mpt'"
            ]
          },
          "execution_count": null,
          "metadata": {},
          "output_type": "execute_result"
        }
      ],
      "source": [
        "result"
      ]
    },
    {
      "cell_type": "code",
      "execution_count": null,
      "metadata": {
        "colab": {
          "background_save": true
        },
        "id": "6MxQRl5I_u3F",
        "outputId": "5091be62-7f00-4196-b414-ea8c06ef6389"
      },
      "outputs": [
        {
          "data": {
            "image/png": "[encoded data removed]",
            "text/plain": [
              "<PIL.Image.Image image mode=RGB size=282x90 at 0x7F9A1AF63B50>"
            ]
          },
          "metadata": {},
          "output_type": "display_data"
        }
      ],
      "source": [
        "cv2_imshow(cv2.imread(images1[j]))"
      ]
    },
    {
      "cell_type": "code",
      "execution_count": null,
      "metadata": {
        "id": "kOlv_G17SUJB"
      },
      "outputs": [],
      "source": [
        "labels[j]"
      ]
    },
    {
      "cell_type": "markdown",
      "source": [
        "Another Captcha image results"
      ],
      "metadata": {
        "id": "gdEX-a4nWFI7"
      }
    },
    {
      "cell_type": "code",
      "execution_count": null,
      "metadata": {
        "id": "_-tp6D8VEFl8"
      },
      "outputs": [],
      "source": [
        "k1=5\n",
        "test_captcha=images1[k1]\n",
        "image1=cv2.imread(test_captcha)\n",
        "cv2_imshow(image1)"
      ]
    },
    {
      "cell_type": "code",
      "execution_count": null,
      "metadata": {
        "id": "6u0O0oTEEEzd"
      },
      "outputs": [],
      "source": [
        "thresh1=convert_binary(test_captcha)\n",
        "contours1=find_contours(thresh1)\n",
        "image2 = cv2.drawContours(image1, contours1, -1, (0, 255, 0), 2)\n",
        "cv2_imshow(image2)\n",
        "x1=find_contour_size(contours1)"
      ]
    },
    {
      "cell_type": "code",
      "execution_count": null,
      "metadata": {
        "id": "NVbFH1fLBn-k"
      },
      "outputs": [],
      "source": [
        "biggie = sorted(x1, key=x1.get)\n",
        "s={}\n",
        "plotting_characters(s,biggie,contours1)"
      ]
    },
    {
      "cell_type": "code",
      "execution_count": null,
      "metadata": {
        "id": "FfO5s9g1Ee3j"
      },
      "outputs": [],
      "source": [
        "siggie = sorted(s, key=s.get)\n",
        "plotting_left_to_right(siggie,contours1)"
      ]
    },
    {
      "cell_type": "code",
      "execution_count": null,
      "metadata": {
        "id": "BOfizpuQEilz"
      },
      "outputs": [],
      "source": [
        "import PIL \n",
        "img1=[]\n",
        "for i in range(0,10):\n",
        "  wow = borders_left_to_right(i,siggie,contours1)\n",
        "  img1.append(thresh1[wow[0]-2:wow[1]+2 ,wow[2]-2:wow[3]+2])\n",
        "  plt.axis('off')\n",
        "  plt.imshow(img1[i],cmap='gray')\n",
        "  name=\"letter\"+str(i)+\".png\"\n",
        "  plt.savefig(name,bbox_inches='tight')"
      ]
    },
    {
      "cell_type": "code",
      "execution_count": null,
      "metadata": {
        "colab": {
          "background_save": true
        },
        "id": "U0z48ZCPEqNa"
      },
      "outputs": [],
      "source": [
        "prob=[]"
      ]
    },
    {
      "cell_type": "code",
      "execution_count": null,
      "metadata": {
        "id": "7TSs0OAcFPZA"
      },
      "outputs": [],
      "source": [
        "result=\"\"\n",
        "for i in range(0,10):\n",
        "  file_loc=\"/content/letter\"+str(i)+\".png\"\n",
        "  result_letter=find_letter(file_loc,1)\n",
        "  result=result+result_letter"
      ]
    },
    {
      "cell_type": "code",
      "execution_count": null,
      "metadata": {
        "colab": {
          "background_save": true
        },
        "id": "JW9yefKIFH26",
        "outputId": "53eba780-ebcb-4f7f-9fa1-42819313c81d"
      },
      "outputs": [
        {
          "data": {
            "application/vnd.google.colaboratory.intrinsic+json": {
              "type": "string"
            },
            "text/plain": [
              "'0AX6rxbziw'"
            ]
          },
          "execution_count": null,
          "metadata": {},
          "output_type": "execute_result"
        }
      ],
      "source": [
        "result"
      ]
    },
    {
      "cell_type": "code",
      "execution_count": null,
      "metadata": {
        "id": "8uaXHlLFFJoa"
      },
      "outputs": [],
      "source": [
        "labels[k1]"
      ]
    },
    {
      "cell_type": "code",
      "execution_count": null,
      "metadata": {
        "id": "wRP8luVCFq7Z"
      },
      "outputs": [],
      "source": [
        "prob"
      ]
    },
    {
      "cell_type": "code",
      "execution_count": null,
      "metadata": {
        "id": "i514TC-VFx8I"
      },
      "outputs": [],
      "source": [
        "prob_sorted=numpy.argsort(prob)\n",
        "prob_sorted"
      ]
    },
    {
      "cell_type": "code",
      "execution_count": null,
      "metadata": {
        "id": "0gcUHGF7E8Di"
      },
      "outputs": [],
      "source": [
        "for i in range(0,10):\n",
        "  k=find_letter(\"/content/letter\"+str(prob_sorted[i])+\".png\",2)\n",
        "  s=result[:prob_sorted[i]]+k+result[prob_sorted[i]+1:]\n",
        "  print(s,labels[k1]==s)"
      ]
    },
    {
      "cell_type": "code",
      "execution_count": null,
      "metadata": {
        "id": "iudbM16_yw1O"
      },
      "outputs": [],
      "source": [
        "labels[k1]"
      ]
    }
  ],
  "metadata": {
    "colab": {
      "collapsed_sections": [],
      "provenance": [],
      "include_colab_link": true
    },
    "gpuClass": "standard",
    "kernelspec": {
      "display_name": "Python 3",
      "name": "python3"
    },
    "language_info": {
      "name": "python"
    }
  },
  "nbformat": 4,
  "nbformat_minor": 0
}