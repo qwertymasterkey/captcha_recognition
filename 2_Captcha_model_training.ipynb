{
  "nbformat": 4,
  "nbformat_minor": 0,
  "metadata": {
    "colab": {
      "provenance": [],
      "include_colab_link": true
    },
    "kernelspec": {
      "name": "python3",
      "display_name": "Python 3"
    },
    "language_info": {
      "name": "python"
    }
  },
  "cells": [
    {
      "cell_type": "markdown",
      "metadata": {
        "id": "view-in-github",
        "colab_type": "text"
      },
      "source": [
        "<a href=\"https://colab.research.google.com/github/qwertymasterkey/captcha_recognition/blob/main/2_Captcha_model_training.ipynb\" target=\"_parent\"><img src=\"https://colab.research.google.com/assets/colab-badge.svg\" alt=\"Open In Colab\"/></a>"
      ]
    },
    {
      "cell_type": "code",
      "execution_count": null,
      "metadata": {
        "id": "QwOyEYHNU3K7"
      },
      "outputs": [],
      "source": [
        "import os"
      ]
    },
    {
      "cell_type": "code",
      "source": [
        "from pathlib import Path\n",
        "data_dir = Path(\"/content/drive/MyDrive/captcha_segment/segmented_dataset_\")\n",
        "images = sorted(list(map(str, list(data_dir.glob(\"*.jpg\")))))"
      ],
      "metadata": {
        "id": "MdTo9DiNWx8n"
      },
      "execution_count": null,
      "outputs": []
    },
    {
      "cell_type": "code",
      "source": [
        "!pip install split_folders\n",
        "import splitfolders"
      ],
      "metadata": {
        "colab": {
          "base_uri": "https://localhost:8080/"
        },
        "id": "lpslr3zIcI6U",
        "outputId": "3ac344d0-4018-4064-adc5-c6456dabff0e"
      },
      "execution_count": null,
      "outputs": [
        {
          "output_type": "stream",
          "name": "stdout",
          "text": [
            "Looking in indexes: https://pypi.org/simple, https://us-python.pkg.dev/colab-wheels/public/simple/\n",
            "Requirement already satisfied: split_folders in /usr/local/lib/python3.7/dist-packages (0.5.1)\n"
          ]
        }
      ]
    },
    {
      "cell_type": "code",
      "source": [
        "input_folder=\"/content/drive/MyDrive/captcha_segment/segmented_dataset_/captcha/data/\"\n",
        "output_folder=\"/content/drive/MyDrive/captcha_segment/splitted_dataset_/\""
      ],
      "metadata": {
        "id": "rVWZIjcHcRpn"
      },
      "execution_count": null,
      "outputs": []
    },
    {
      "cell_type": "code",
      "source": [
        "splitfolders.ratio(input_folder,output_folder,seed=5,ratio=(.7,.15,.15))"
      ],
      "metadata": {
        "id": "r2SFJ6pc16OV"
      },
      "execution_count": null,
      "outputs": []
    },
    {
      "cell_type": "code",
      "source": [
        "import tensorflow as tf\n",
        "from tensorflow.keras.layers import *\n",
        "from tensorflow.keras.preprocessing.image import ImageDataGenerator,load_img\n",
        "from tensorflow.keras.preprocessing import image\n",
        "from tensorflow.keras.models import Sequential\n",
        "from tensorflow.keras.models import Model\n",
        "import numpy as np\n",
        "import matplotlib.pyplot as plt"
      ],
      "metadata": {
        "id": "HQB4ed_IdWMz"
      },
      "execution_count": null,
      "outputs": []
    },
    {
      "cell_type": "code",
      "source": [
        "img_height,img_width=(128,128)\n",
        "batch_size=32\n",
        "train_data_dir=\"/content/drive/MyDrive/captcha_segment/splitted_dataset_/train\"\n",
        "val_data_dir=\"/content/drive/MyDrive/captcha_segment/splitted_dataset_/val\"\n",
        "test_data_dir=\"/content/drive/MyDrive/captcha_segment/splitted_dataset_/test\""
      ],
      "metadata": {
        "id": "if9X8Hj4dbjJ"
      },
      "execution_count": null,
      "outputs": []
    },
    {
      "cell_type": "code",
      "source": [
        "train_datagen=ImageDataGenerator(rescale = 1./255,\n",
        "                                 shear_range=0.2,\n",
        "                                 zoom_range=0.2,\n",
        "                                 rotation_range=20,\n",
        "                                 horizontal_flip=True,)"
      ],
      "metadata": {
        "id": "yE7qj7lSeT-S"
      },
      "execution_count": null,
      "outputs": []
    },
    {
      "cell_type": "code",
      "source": [
        "train_generator=train_datagen.flow_from_directory(\n",
        "    train_data_dir,\n",
        "    target_size=(img_height,img_width),\n",
        "    batch_size=batch_size,\n",
        "    class_mode='categorical',\n",
        "    color_mode='grayscale',\n",
        "    subset='training'\n",
        ")"
      ],
      "metadata": {
        "id": "WgvRl-j8eXG9"
      },
      "execution_count": null,
      "outputs": []
    },
    {
      "cell_type": "code",
      "source": [
        "test_datagen = ImageDataGenerator(rescale = 1./255)\n",
        "valid_generator=test_datagen.flow_from_directory(\n",
        "    val_data_dir,\n",
        "    target_size=(img_height,img_width),\n",
        "    batch_size=batch_size,\n",
        "    color_mode='grayscale',\n",
        "    class_mode='categorical',\n",
        ")"
      ],
      "metadata": {
        "id": "uSugDhEFeaI8"
      },
      "execution_count": null,
      "outputs": []
    },
    {
      "cell_type": "code",
      "source": [
        "test_generator=test_datagen.flow_from_directory(\n",
        "    test_data_dir,\n",
        "    target_size=(img_height,img_width),\n",
        "    batch_size=1,\n",
        "    color_mode='grayscale',\n",
        "    class_mode='categorical',\n",
        ")"
      ],
      "metadata": {
        "id": "-uhwSDl8eg_0"
      },
      "execution_count": null,
      "outputs": []
    },
    {
      "cell_type": "code",
      "source": [
        "x,y=test_generator.next()"
      ],
      "metadata": {
        "id": "VLcrXq44iJKl"
      },
      "execution_count": null,
      "outputs": []
    },
    {
      "cell_type": "code",
      "source": [
        "x.shape"
      ],
      "metadata": {
        "id": "n7wu-biLiLb_"
      },
      "execution_count": null,
      "outputs": []
    },
    {
      "cell_type": "code",
      "source": [
        "import keras\n",
        "from keras.models import Sequential\n",
        "from keras.layers import Dense, Dropout, Flatten\n",
        "from keras.layers import Conv2D, MaxPooling2D\n",
        "import numpy as np\n",
        "from tensorflow.keras import layers\n"
      ],
      "metadata": {
        "id": "rRlZYMk8fbPG"
      },
      "execution_count": null,
      "outputs": []
    },
    {
      "cell_type": "code",
      "source": [
        "import numpy as np\n",
        "import matplotlib.pyplot as plt\n",
        "from keras.preprocessing.image import ImageDataGenerator\n",
        "from keras.preprocessing import image\n",
        "import keras\n",
        "from keras.models import Sequential\n",
        "from keras.layers import Conv2D, MaxPooling2D, Flatten, Dense, Activation,BatchNormalization\n",
        "import os\n",
        "import pickle"
      ],
      "metadata": {
        "id": "p27H0faPjLBM"
      },
      "execution_count": null,
      "outputs": []
    },
    {
      "cell_type": "code",
      "source": [
        "from keras.layers import Dropout\n",
        "model = Sequential()\n",
        "model.add(Conv2D(128,(3,3),input_shape=(128,128,1),activation='relu'))\n",
        "model.add(MaxPooling2D(pool_size = (2, 2)))\n",
        "model.add(Conv2D(192,(3,3),activation='relu'))\n",
        "model.add(MaxPooling2D(pool_size = (2, 2)))\n",
        "model.add(Conv2D(288,(3,3),activation='relu'))\n",
        "model.add(MaxPooling2D(pool_size = (2, 2)))\n",
        "model.add(Conv2D(384,(3,3),activation='relu'))\n",
        "model.add(MaxPooling2D(pool_size = (2, 2)))\n",
        "model.add(Dropout(0.3))\n",
        "model.add(Flatten())\n",
        "model.add(Dense(2000,activation='relu'))\n",
        "model.add(Dropout(0.4))\n",
        "model.add(Dense(5000,activation='relu'))\n",
        "model.add(Dense(62,activation='softmax'))\n",
        "model.compile(optimizer = 'adam', loss = 'categorical_crossentropy', metrics = ['accuracy'])\n",
        "model.summary()"
      ],
      "metadata": {
        "id": "Up2PCNKMrWJ-"
      },
      "execution_count": null,
      "outputs": []
    },
    {
      "cell_type": "code",
      "source": [
        "model.fit(train_generator,\n",
        "          steps_per_epoch = 16,\n",
        "          epochs = 25,\n",
        "          validation_data = valid_generator,\n",
        "          validation_steps = 16)"
      ],
      "metadata": {
        "id": "SEeVG-UArZeg"
      },
      "execution_count": null,
      "outputs": []
    },
    {
      "cell_type": "code",
      "source": [
        "test_loss,test_acc=model.evaluate(test_generator,verbose=1)"
      ],
      "metadata": {
        "id": "uzjEesS2gN_z"
      },
      "execution_count": null,
      "outputs": []
    },
    {
      "cell_type": "code",
      "source": [
        "print(\"Testing Accuracy:\",round(test_acc*100,2),\"%\")"
      ],
      "metadata": {
        "id": "9LqqYI6x1UQE"
      },
      "execution_count": null,
      "outputs": []
    },
    {
      "cell_type": "code",
      "source": [
        "model=tf.keras.models.load_model(\n",
        "    '/content/drive/MyDrive/captcha_segment/captcha_model.h5' )"
      ],
      "metadata": {
        "id": "LUnUaqBTPtnU"
      },
      "execution_count": null,
      "outputs": []
    },
    {
      "cell_type": "code",
      "source": [
        "diction = {0: '0', 1: '1', 2: '2', 3: '3', 4: '4', 5: '5', 6: '6', 7: '7', 8: '8', 9: '9', 10: 'A',\n",
        "           11: 'B', 12: 'C', 13: 'D', 14: 'E', 15: 'F', 16: 'G', 17: 'H', 18: 'I', 19: 'J', 20: 'K',\n",
        "           21: 'L', 22: 'M', 23: 'N', 24: 'O', 25: 'P', 26: 'Q', 27: 'R', 28: 'S', 29: 'T', 30: 'U',\n",
        "           31: 'V', 32: 'W', 33: 'X', 34: 'Y', 35: 'Z', 36: 'a', 37: 'b', 38: 'c', 39: 'd', 40: 'e',\n",
        "           41: 'f', 42: 'g', 43: 'h', 44: 'i', 45: 'j', 46: 'k', 47: 'l', 48: 'm', 49: 'n', 50: 'o', \n",
        "           51: 'p', 52: 'q', 53: 'r', 54: 's', 55: 't', 56: 'u', 57: 'v', 58: 'w', 59: 'x', 60: 'y',\n",
        "           61: 'z'}"
      ],
      "metadata": {
        "id": "vNORatMCb7BC"
      },
      "execution_count": null,
      "outputs": []
    },
    {
      "cell_type": "code",
      "source": [
        "filename = '/content/108769395.png'\n",
        "test_image = image.load_img(filename,target_size=(128,128))\n",
        "plt.imshow(test_image,cmap='gray')\n",
        "test_image_arr=np.array(test_image)\n",
        "test_image = np.expand_dims(test_image, axis = 0)"
      ],
      "metadata": {
        "id": "Wg-BfoVVcXy8"
      },
      "execution_count": null,
      "outputs": []
    },
    {
      "cell_type": "code",
      "source": [
        "count=0\n",
        "result1 = model.predict(test_image)\n",
        "for i in result1:\n",
        "  for j in i:\n",
        "    if j==1:\n",
        "      res=count\n",
        "    count+=1  \n",
        "print('The predicted letter is:',diction[res])"
      ],
      "metadata": {
        "id": "qb7WGHDhcCim"
      },
      "execution_count": null,
      "outputs": []
    },
    {
      "cell_type": "code",
      "source": [
        "filename = '/content/677612659.png'\n",
        "test_image = image.load_img(filename,target_size=(128,128))\n",
        "plt.imshow(test_image,cmap='gray')\n",
        "test_image_arr=np.array(test_image)\n",
        "test_image = np.expand_dims(test_image, axis = 0)\n"
      ],
      "metadata": {
        "id": "lsmQZDtjxG4i"
      },
      "execution_count": null,
      "outputs": []
    },
    {
      "cell_type": "code",
      "source": [
        "result = model.predict(test_image)\n",
        "count=0\n",
        "for i in result:\n",
        "  for j in i:\n",
        "    if j==1:\n",
        "      res=count\n",
        "    count+=1  \n",
        "print('The predicted letter is:',diction[res])"
      ],
      "metadata": {
        "id": "LbcjGL7dikLO"
      },
      "execution_count": null,
      "outputs": []
    }
  ]
}