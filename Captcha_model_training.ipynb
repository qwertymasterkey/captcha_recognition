{
  "nbformat": 4,
  "nbformat_minor": 0,
  "metadata": {
    "colab": {
      "name": "Captcha_model_training.ipynb",
      "provenance": [],
      "mount_file_id": "1T9_dTkqXx0p0Hle63YiJLePBeU6-Gqbt",
      "authorship_tag": "ABX9TyOMYk8rcvA/a+MqfaFf4Y1A",
      "include_colab_link": true
    },
    "kernelspec": {
      "name": "python3",
      "display_name": "Python 3"
    },
    "language_info": {
      "name": "python"
    }
  },
  "cells": [
    {
      "cell_type": "markdown",
      "metadata": {
        "id": "view-in-github",
        "colab_type": "text"
      },
      "source": [
        "<a href=\"https://colab.research.google.com/github/qwertymasterkey/captcha_recognition/blob/main/Captcha_model_training.ipynb\" target=\"_parent\"><img src=\"https://colab.research.google.com/assets/colab-badge.svg\" alt=\"Open In Colab\"/></a>"
      ]
    },
    {
      "cell_type": "code",
      "execution_count": null,
      "metadata": {
        "id": "QwOyEYHNU3K7"
      },
      "outputs": [],
      "source": [
        "import os"
      ]
    },
    {
      "cell_type": "code",
      "source": [
        "from pathlib import Path\n",
        "data_dir = Path(\"/content/drive/MyDrive/captcha_segment/segmented_dataset_\")\n",
        "images = sorted(list(map(str, list(data_dir.glob(\"*.jpg\")))))"
      ],
      "metadata": {
        "id": "MdTo9DiNWx8n"
      },
      "execution_count": null,
      "outputs": []
    },
    {
      "cell_type": "code",
      "source": [
        "!pip install split_folders\n",
        "import splitfolders\n"
      ],
      "metadata": {
        "colab": {
          "base_uri": "https://localhost:8080/"
        },
        "id": "lpslr3zIcI6U",
        "outputId": "879059aa-7167-4aca-f48c-0b8e7a6805e9"
      },
      "execution_count": null,
      "outputs": [
        {
          "output_type": "stream",
          "name": "stdout",
          "text": [
            "Collecting split_folders\n",
            "  Downloading split_folders-0.5.1-py3-none-any.whl (8.4 kB)\n",
            "Installing collected packages: split-folders\n",
            "Successfully installed split-folders-0.5.1\n"
          ]
        }
      ]
    },
    {
      "cell_type": "code",
      "source": [
        "input_folder=\"/content/drive/MyDrive/captcha_segment/segmented_dataset_/captcha/data/\"\n",
        "output_folder=\"/content/drive/MyDrive/captcha_segment/splitted_dataset_/\"\n"
      ],
      "metadata": {
        "id": "rVWZIjcHcRpn"
      },
      "execution_count": null,
      "outputs": []
    },
    {
      "cell_type": "code",
      "source": [
        "splitfolders.ratio(input_folder,output_folder,seed=5,ratio=(.7,.15,.15))"
      ],
      "metadata": {
        "id": "r2SFJ6pc16OV"
      },
      "execution_count": null,
      "outputs": []
    },
    {
      "cell_type": "code",
      "source": [
        "import tensorflow as tf\n",
        "from tensorflow.keras.layers import *\n",
        "from tensorflow.keras.preprocessing.image import ImageDataGenerator,load_img\n",
        "from tensorflow.keras.preprocessing import image\n",
        "from tensorflow.keras.models import Sequential\n",
        "from tensorflow.keras.models import Model\n",
        "import numpy as np\n",
        "import matplotlib.pyplot as plt"
      ],
      "metadata": {
        "id": "HQB4ed_IdWMz"
      },
      "execution_count": null,
      "outputs": []
    },
    {
      "cell_type": "code",
      "source": [
        "img_height,img_width=(128,128)\n",
        "batch_size=32\n",
        "train_data_dir=\"/content/drive/MyDrive/captcha_segment/splitted_dataset_/train\"\n",
        "val_data_dir=\"/content/drive/MyDrive/captcha_segment/splitted_dataset_/val\"\n",
        "test_data_dir=\"/content/drive/MyDrive/captcha_segment/splitted_dataset_/test\""
      ],
      "metadata": {
        "id": "if9X8Hj4dbjJ"
      },
      "execution_count": null,
      "outputs": []
    },
    {
      "cell_type": "code",
      "source": [
        "train_datagen=ImageDataGenerator(rescale = 1./255,\n",
        "                                 shear_range=0.2,\n",
        "                                 zoom_range=0.2,\n",
        "                                 rotation_range=20,\n",
        "                                 horizontal_flip=True,)"
      ],
      "metadata": {
        "id": "yE7qj7lSeT-S"
      },
      "execution_count": null,
      "outputs": []
    },
    {
      "cell_type": "code",
      "source": [
        "train_generator=train_datagen.flow_from_directory(\n",
        "    train_data_dir,\n",
        "    target_size=(img_height,img_width),\n",
        "    batch_size=batch_size,\n",
        "    class_mode='categorical',\n",
        "    color_mode='grayscale',\n",
        "    subset='training'\n",
        ")"
      ],
      "metadata": {
        "colab": {
          "base_uri": "https://localhost:8080/"
        },
        "id": "WgvRl-j8eXG9",
        "outputId": "60c53145-4cbd-4b0d-905a-6b44bececf1a"
      },
      "execution_count": null,
      "outputs": [
        {
          "output_type": "stream",
          "name": "stdout",
          "text": [
            "Found 4072 images belonging to 62 classes.\n"
          ]
        }
      ]
    },
    {
      "cell_type": "code",
      "source": [
        "test_datagen = ImageDataGenerator(rescale = 1./255)\n",
        "valid_generator=test_datagen.flow_from_directory(\n",
        "    val_data_dir,\n",
        "    target_size=(img_height,img_width),\n",
        "    batch_size=batch_size,\n",
        "    color_mode='grayscale',\n",
        "    class_mode='categorical',\n",
        ")"
      ],
      "metadata": {
        "colab": {
          "base_uri": "https://localhost:8080/"
        },
        "id": "uSugDhEFeaI8",
        "outputId": "f265b1c3-8df3-4028-aa4c-411df101f9e7"
      },
      "execution_count": null,
      "outputs": [
        {
          "output_type": "stream",
          "name": "stdout",
          "text": [
            "Found 849 images belonging to 62 classes.\n"
          ]
        }
      ]
    },
    {
      "cell_type": "code",
      "source": [
        "test_generator=test_datagen.flow_from_directory(\n",
        "    test_data_dir,\n",
        "    target_size=(img_height,img_width),\n",
        "    batch_size=1,\n",
        "    color_mode='grayscale',\n",
        "    class_mode='categorical',\n",
        ")"
      ],
      "metadata": {
        "colab": {
          "base_uri": "https://localhost:8080/"
        },
        "id": "-uhwSDl8eg_0",
        "outputId": "b9597d33-7193-437b-d8eb-f0ed35bfc437"
      },
      "execution_count": null,
      "outputs": [
        {
          "output_type": "stream",
          "name": "stdout",
          "text": [
            "Found 937 images belonging to 62 classes.\n"
          ]
        }
      ]
    },
    {
      "cell_type": "code",
      "source": [
        "x,y=test_generator.next()"
      ],
      "metadata": {
        "id": "VLcrXq44iJKl"
      },
      "execution_count": null,
      "outputs": []
    },
    {
      "cell_type": "code",
      "source": [
        "x.shape"
      ],
      "metadata": {
        "colab": {
          "base_uri": "https://localhost:8080/"
        },
        "id": "n7wu-biLiLb_",
        "outputId": "b338421a-cf9a-4ec6-8daf-6285c85625cc"
      },
      "execution_count": null,
      "outputs": [
        {
          "output_type": "execute_result",
          "data": {
            "text/plain": [
              "(1, 128, 128, 1)"
            ]
          },
          "metadata": {},
          "execution_count": 11
        }
      ]
    },
    {
      "cell_type": "code",
      "source": [
        "import keras\n",
        "from keras.models import Sequential\n",
        "from keras.layers import Dense, Dropout, Flatten\n",
        "from keras.layers import Conv2D, MaxPooling2D\n",
        "import numpy as np\n",
        "from tensorflow.keras import layers\n"
      ],
      "metadata": {
        "id": "rRlZYMk8fbPG"
      },
      "execution_count": null,
      "outputs": []
    },
    {
      "cell_type": "code",
      "source": [
        "import numpy as np\n",
        "import matplotlib.pyplot as plt\n",
        "from keras.preprocessing.image import ImageDataGenerator\n",
        "from keras.preprocessing import image\n",
        "import keras\n",
        "from keras.models import Sequential\n",
        "from keras.layers import Conv2D, MaxPooling2D, Flatten, Dense, Activation,BatchNormalization\n",
        "import os\n",
        "import pickle"
      ],
      "metadata": {
        "id": "p27H0faPjLBM"
      },
      "execution_count": null,
      "outputs": []
    },
    {
      "cell_type": "code",
      "source": [
        "from keras.layers import Dropout\n",
        "model = Sequential()\n",
        "model.add(Conv2D(128,(3,3),input_shape=(128,128,1),activation='relu'))\n",
        "model.add(MaxPooling2D(pool_size = (2, 2)))\n",
        "model.add(Conv2D(192,(3,3),activation='relu'))\n",
        "model.add(MaxPooling2D(pool_size = (2, 2)))\n",
        "model.add(Conv2D(288,(3,3),activation='relu'))\n",
        "model.add(MaxPooling2D(pool_size = (2, 2)))\n",
        "model.add(Conv2D(384,(3,3),activation='relu'))\n",
        "model.add(MaxPooling2D(pool_size = (2, 2)))\n",
        "model.add(Dropout(0.3))\n",
        "model.add(Flatten())\n",
        "model.add(Dense(2000,activation='relu'))\n",
        "model.add(Dropout(0.4))\n",
        "model.add(Dense(5000,activation='relu'))\n",
        "model.add(Dense(62,activation='softmax'))\n",
        "model.compile(optimizer = 'adam', loss = 'categorical_crossentropy', metrics = ['accuracy'])\n",
        "model.summary()"
      ],
      "metadata": {
        "colab": {
          "base_uri": "https://localhost:8080/"
        },
        "id": "Up2PCNKMrWJ-",
        "outputId": "bb07935e-a89e-4a3f-85db-73dbc4d6fd58"
      },
      "execution_count": null,
      "outputs": [
        {
          "output_type": "stream",
          "name": "stdout",
          "text": [
            "Model: \"sequential_2\"\n",
            "_________________________________________________________________\n",
            " Layer (type)                Output Shape              Param #   \n",
            "=================================================================\n",
            " conv2d_8 (Conv2D)           (None, 126, 126, 128)     1280      \n",
            "                                                                 \n",
            " max_pooling2d_8 (MaxPooling  (None, 63, 63, 128)      0         \n",
            " 2D)                                                             \n",
            "                                                                 \n",
            " conv2d_9 (Conv2D)           (None, 61, 61, 192)       221376    \n",
            "                                                                 \n",
            " max_pooling2d_9 (MaxPooling  (None, 30, 30, 192)      0         \n",
            " 2D)                                                             \n",
            "                                                                 \n",
            " conv2d_10 (Conv2D)          (None, 28, 28, 288)       497952    \n",
            "                                                                 \n",
            " max_pooling2d_10 (MaxPoolin  (None, 14, 14, 288)      0         \n",
            " g2D)                                                            \n",
            "                                                                 \n",
            " conv2d_11 (Conv2D)          (None, 12, 12, 384)       995712    \n",
            "                                                                 \n",
            " max_pooling2d_11 (MaxPoolin  (None, 6, 6, 384)        0         \n",
            " g2D)                                                            \n",
            "                                                                 \n",
            " dropout_4 (Dropout)         (None, 6, 6, 384)         0         \n",
            "                                                                 \n",
            " flatten_2 (Flatten)         (None, 13824)             0         \n",
            "                                                                 \n",
            " dense_6 (Dense)             (None, 2000)              27650000  \n",
            "                                                                 \n",
            " dropout_5 (Dropout)         (None, 2000)              0         \n",
            "                                                                 \n",
            " dense_7 (Dense)             (None, 5000)              10005000  \n",
            "                                                                 \n",
            " dense_8 (Dense)             (None, 62)                310062    \n",
            "                                                                 \n",
            "=================================================================\n",
            "Total params: 39,681,382\n",
            "Trainable params: 39,681,382\n",
            "Non-trainable params: 0\n",
            "_________________________________________________________________\n"
          ]
        }
      ]
    },
    {
      "cell_type": "code",
      "source": [
        "model.fit(train_generator,\n",
        "          steps_per_epoch = 16,\n",
        "          epochs = 25,\n",
        "          validation_data = valid_generator,\n",
        "          validation_steps = 16)"
      ],
      "metadata": {
        "colab": {
          "base_uri": "https://localhost:8080/"
        },
        "id": "SEeVG-UArZeg",
        "outputId": "18db75bd-a2bf-4fed-81ea-18dd19037df0"
      },
      "execution_count": null,
      "outputs": [
        {
          "output_type": "stream",
          "name": "stdout",
          "text": [
            "Epoch 1/25\n",
            "16/16 [==============================] - 131s 8s/step - loss: 4.1601 - accuracy: 0.0547 - val_loss: 4.0605 - val_accuracy: 0.0898\n",
            "Epoch 2/25\n",
            "16/16 [==============================] - 127s 8s/step - loss: 3.9727 - accuracy: 0.0703 - val_loss: 3.8873 - val_accuracy: 0.0664\n",
            "Epoch 3/25\n",
            "16/16 [==============================] - 123s 8s/step - loss: 3.9152 - accuracy: 0.0742 - val_loss: 3.9328 - val_accuracy: 0.0625\n",
            "Epoch 4/25\n",
            "16/16 [==============================] - 124s 8s/step - loss: 3.7918 - accuracy: 0.0996 - val_loss: 3.6549 - val_accuracy: 0.0742\n",
            "Epoch 5/25\n",
            "16/16 [==============================] - 128s 8s/step - loss: 3.6774 - accuracy: 0.1250 - val_loss: 3.0228 - val_accuracy: 0.3086\n",
            "Epoch 6/25\n",
            "16/16 [==============================] - 118s 7s/step - loss: 2.8765 - accuracy: 0.3217 - val_loss: 2.3737 - val_accuracy: 0.3828\n",
            "Epoch 7/25\n",
            "16/16 [==============================] - 124s 8s/step - loss: 2.2152 - accuracy: 0.4199 - val_loss: 1.5623 - val_accuracy: 0.5332\n",
            "Epoch 8/25\n",
            "16/16 [==============================] - 122s 8s/step - loss: 1.6490 - accuracy: 0.5254 - val_loss: 1.0315 - val_accuracy: 0.6699\n",
            "Epoch 9/25\n",
            "16/16 [==============================] - 122s 8s/step - loss: 1.3272 - accuracy: 0.5723 - val_loss: 0.8030 - val_accuracy: 0.7676\n",
            "Epoch 10/25\n",
            "16/16 [==============================] - 123s 8s/step - loss: 1.0947 - accuracy: 0.7051 - val_loss: 0.7999 - val_accuracy: 0.7637\n",
            "Epoch 11/25\n",
            "16/16 [==============================] - 122s 8s/step - loss: 0.9876 - accuracy: 0.6875 - val_loss: 0.6219 - val_accuracy: 0.7852\n",
            "Epoch 12/25\n",
            "16/16 [==============================] - 122s 8s/step - loss: 0.7905 - accuracy: 0.7422 - val_loss: 0.5818 - val_accuracy: 0.8164\n",
            "Epoch 13/25\n",
            "16/16 [==============================] - 121s 8s/step - loss: 0.7522 - accuracy: 0.7676 - val_loss: 0.5445 - val_accuracy: 0.8086\n",
            "Epoch 14/25\n",
            "16/16 [==============================] - 121s 8s/step - loss: 0.8210 - accuracy: 0.7617 - val_loss: 0.4625 - val_accuracy: 0.8340\n",
            "Epoch 15/25\n",
            "16/16 [==============================] - 122s 8s/step - loss: 0.5979 - accuracy: 0.7988 - val_loss: 0.4943 - val_accuracy: 0.8633\n",
            "Epoch 16/25\n",
            "16/16 [==============================] - 123s 8s/step - loss: 0.6066 - accuracy: 0.7910 - val_loss: 0.4308 - val_accuracy: 0.8809\n",
            "Epoch 17/25\n",
            "16/16 [==============================] - 121s 8s/step - loss: 0.6705 - accuracy: 0.7734 - val_loss: 0.3219 - val_accuracy: 0.8984\n",
            "Epoch 18/25\n",
            "16/16 [==============================] - 121s 8s/step - loss: 0.5392 - accuracy: 0.8379 - val_loss: 0.3332 - val_accuracy: 0.8867\n",
            "Epoch 19/25\n",
            "16/16 [==============================] - 121s 8s/step - loss: 0.6040 - accuracy: 0.7930 - val_loss: 0.2952 - val_accuracy: 0.9043\n",
            "Epoch 20/25\n",
            "16/16 [==============================] - 123s 8s/step - loss: 0.4905 - accuracy: 0.8359 - val_loss: 0.3290 - val_accuracy: 0.8770\n",
            "Epoch 21/25\n",
            "16/16 [==============================] - 122s 8s/step - loss: 0.5348 - accuracy: 0.8438 - val_loss: 0.3838 - val_accuracy: 0.8750\n",
            "Epoch 22/25\n",
            "16/16 [==============================] - 121s 8s/step - loss: 0.4072 - accuracy: 0.8691 - val_loss: 0.3338 - val_accuracy: 0.8711\n",
            "Epoch 23/25\n",
            "16/16 [==============================] - 122s 8s/step - loss: 0.3984 - accuracy: 0.8809 - val_loss: 0.3136 - val_accuracy: 0.9141\n",
            "Epoch 24/25\n",
            "16/16 [==============================] - 123s 8s/step - loss: 0.4303 - accuracy: 0.8711 - val_loss: 0.2472 - val_accuracy: 0.9082\n",
            "Epoch 25/25\n",
            "16/16 [==============================] - 122s 8s/step - loss: 0.3120 - accuracy: 0.8848 - val_loss: 0.3536 - val_accuracy: 0.8809\n"
          ]
        },
        {
          "output_type": "execute_result",
          "data": {
            "text/plain": [
              "<keras.callbacks.History at 0x7f9d9d944090>"
            ]
          },
          "metadata": {},
          "execution_count": 19
        }
      ]
    },
    {
      "cell_type": "code",
      "source": [
        "test_loss,test_acc=model.evaluate(test_generator,verbose=1)"
      ],
      "metadata": {
        "colab": {
          "base_uri": "https://localhost:8080/"
        },
        "id": "uzjEesS2gN_z",
        "outputId": "df47ef00-e680-437b-ce44-cfb090677162"
      },
      "execution_count": null,
      "outputs": [
        {
          "output_type": "stream",
          "name": "stdout",
          "text": [
            "937/937 [==============================] - 380s 406ms/step - loss: 0.3608 - accuracy: 0.8975\n"
          ]
        }
      ]
    },
    {
      "cell_type": "code",
      "source": [
        "print(\"Testing Accuracy:\",round(test_acc*100,2),\"%\")"
      ],
      "metadata": {
        "colab": {
          "base_uri": "https://localhost:8080/"
        },
        "id": "9LqqYI6x1UQE",
        "outputId": "bfa5c53e-f11a-4923-aba0-6e0d4b2ab764"
      },
      "execution_count": null,
      "outputs": [
        {
          "output_type": "stream",
          "name": "stdout",
          "text": [
            "Testing Accuracy: 89.75 %\n"
          ]
        }
      ]
    },
    {
      "cell_type": "code",
      "source": [
        "model=tf.keras.models.load_model(\n",
        "    '/content/drive/MyDrive/captcha_segment/captcha_model.h5' )"
      ],
      "metadata": {
        "id": "LUnUaqBTPtnU"
      },
      "execution_count": null,
      "outputs": []
    },
    {
      "cell_type": "code",
      "source": [
        "diction = {0: '0', 1: '1', 2: '2', 3: '3', 4: '4', 5: '5', 6: '6', 7: '7', 8: '8', 9: '9', 10: 'A',\n",
        "           11: 'B', 12: 'C', 13: 'D', 14: 'E', 15: 'F', 16: 'G', 17: 'H', 18: 'I', 19: 'J', 20: 'K',\n",
        "           21: 'L', 22: 'M', 23: 'N', 24: 'O', 25: 'P', 26: 'Q', 27: 'R', 28: 'S', 29: 'T', 30: 'U',\n",
        "           31: 'V', 32: 'W', 33: 'X', 34: 'Y', 35: 'Z', 36: 'a', 37: 'b', 38: 'c', 39: 'd', 40: 'e',\n",
        "           41: 'f', 42: 'g', 43: 'h', 44: 'i', 45: 'j', 46: 'k', 47: 'l', 48: 'm', 49: 'n', 50: 'o', \n",
        "           51: 'p', 52: 'q', 53: 'r', 54: 's', 55: 't', 56: 'u', 57: 'v', 58: 'w', 59: 'x', 60: 'y',\n",
        "           61: 'z'}"
      ],
      "metadata": {
        "id": "vNORatMCb7BC"
      },
      "execution_count": null,
      "outputs": []
    },
    {
      "cell_type": "code",
      "source": [
        "filename = '/content/108769395.png'\n",
        "test_image = image.load_img(filename,target_size=(128,128))\n",
        "plt.imshow(test_image,cmap='gray')\n",
        "test_image_arr=np.array(test_image)\n",
        "test_image = np.expand_dims(test_image, axis = 0)"
      ],
      "metadata": {
        "colab": {
          "base_uri": "https://localhost:8080/",
          "height": 268
        },
        "id": "Wg-BfoVVcXy8",
        "outputId": "9ddee650-5c55-4e03-e652-a2cb20bd3d5e"
      },
      "execution_count": null,
      "outputs": [
        {
          "output_type": "display_data",
          "data": {
            "text/plain": [
              "<Figure size 432x288 with 1 Axes>"
            ],
            "image/png": "[encoded data removed]"
          },
          "metadata": {
            "needs_background": "light"
          }
        }
      ]
    },
    {
      "cell_type": "code",
      "source": [
        "count=0\n",
        "result1 = model.predict(test_image)\n",
        "for i in result1:\n",
        "  for j in i:\n",
        "    if j==1:\n",
        "      res=count\n",
        "    count+=1  \n",
        "print('The predicted letter is:',diction[res])"
      ],
      "metadata": {
        "colab": {
          "base_uri": "https://localhost:8080/"
        },
        "id": "qb7WGHDhcCim",
        "outputId": "c43a20e5-8e66-4722-9b3b-bc2beea5f54e"
      },
      "execution_count": null,
      "outputs": [
        {
          "output_type": "stream",
          "name": "stdout",
          "text": [
            "The predicted letter is: 9\n"
          ]
        }
      ]
    },
    {
      "cell_type": "code",
      "source": [
        "filename = '/content/677612659.png'\n",
        "test_image = image.load_img(filename,target_size=(128,128))\n",
        "plt.imshow(test_image,cmap='gray')\n",
        "test_image_arr=np.array(test_image)\n",
        "test_image = np.expand_dims(test_image, axis = 0)\n"
      ],
      "metadata": {
        "colab": {
          "base_uri": "https://localhost:8080/",
          "height": 268
        },
        "id": "lsmQZDtjxG4i",
        "outputId": "aca44081-7bc7-46f0-8c7e-52f4dd9cd564"
      },
      "execution_count": null,
      "outputs": [
        {
          "output_type": "display_data",
          "data": {
            "text/plain": [
              "<Figure size 432x288 with 1 Axes>"
            ],
            "image/png": "[encoded data removed]"
          },
          "metadata": {
            "needs_background": "light"
          }
        }
      ]
    },
    {
      "cell_type": "code",
      "source": [
        "result = model.predict(test_image)\n",
        "count=0\n",
        "for i in result:\n",
        "  for j in i:\n",
        "    if j==1:\n",
        "      res=count\n",
        "    count+=1  \n",
        "print('The predicted letter is:',diction[res])"
      ],
      "metadata": {
        "colab": {
          "base_uri": "https://localhost:8080/"
        },
        "id": "LbcjGL7dikLO",
        "outputId": "673da5e5-dea2-4b55-dee8-e2cc331c2d9b"
      },
      "execution_count": null,
      "outputs": [
        {
          "output_type": "stream",
          "name": "stdout",
          "text": [
            "The predicted letter is: E\n"
          ]
        }
      ]
    }
  ]
}